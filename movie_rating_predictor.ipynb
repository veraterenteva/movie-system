{
  "cells": [
    {
      "cell_type": "markdown",
      "metadata": {},
      "source": [
        "# Предсказание рейтинга\n"
      ]
    },
    {
      "cell_type": "markdown",
      "metadata": {},
      "source": [
        "В ходе этой работы мне захотелось предсказать на основе полученного ранее датасета оценку фильма на основе жанра, возрастного рейтинга и т.д."
      ]
    },
    {
      "cell_type": "code",
      "execution_count": null,
      "metadata": {
        "id": "TAvypb6-THTO"
      },
      "outputs": [],
      "source": [
        "import pandas as pd\n",
        "import numpy as np\n",
        "\n",
        "from lightgbm import LGBMRegressor\n",
        "from sklearn.preprocessing import LabelEncoder\n",
        "from sklearn.metrics import mean_absolute_error\n",
        "from sklearn.model_selection import train_test_split"
      ]
    },
    {
      "cell_type": "markdown",
      "metadata": {},
      "source": [
        "### Служебные вещи"
      ]
    },
    {
      "cell_type": "markdown",
      "metadata": {},
      "source": [
        "Это добро можно запускать и в коллабе, все соответствующие ячейки я закомментировала"
      ]
    },
    {
      "cell_type": "code",
      "execution_count": null,
      "metadata": {
        "colab": {
          "base_uri": "https://localhost:8080/"
        },
        "id": "6Ik2PEB-V4z5",
        "outputId": "77260dbb-4472-4d71-c02b-a1bc798e2b5a"
      },
      "outputs": [
        {
          "name": "stdout",
          "output_type": "stream",
          "text": [
            "Mounted at /content/drive/\n"
          ]
        }
      ],
      "source": [
        "# from google.colab import drive\n",
        "# drive.mount('/content/drive/')"
      ]
    },
    {
      "cell_type": "code",
      "execution_count": null,
      "metadata": {
        "id": "zZzLu5Q1WJG7"
      },
      "outputs": [],
      "source": [
        "# ds = pd.read_csv('movies_50000.csv')"
      ]
    },
    {
      "cell_type": "markdown",
      "metadata": {},
      "source": [
        "### Подгружаем данные"
      ]
    },
    {
      "cell_type": "markdown",
      "metadata": {},
      "source": [
        "...и приводим колонки в виду, который было бы адекватно кодировать"
      ]
    },
    {
      "cell_type": "code",
      "execution_count": null,
      "metadata": {
        "id": "PnuHWhOLh5Dc"
      },
      "outputs": [],
      "source": [
        "pd.options.display.max_columns = None"
      ]
    },
    {
      "cell_type": "code",
      "execution_count": null,
      "metadata": {
        "id": "A6tAYxoQXSHD"
      },
      "outputs": [],
      "source": [
        "ds = pd.read_csv('movies_50000.csv')"
      ]
    },
    {
      "cell_type": "code",
      "execution_count": null,
      "metadata": {
        "colab": {
          "base_uri": "https://localhost:8080/",
          "height": 554
        },
        "id": "JDD4wG-PW0YX",
        "outputId": "7c82aa43-539d-41bf-a31d-ae4d95e27b33"
      },
      "outputs": [
        {
          "data": {
            "text/html": [
              "\n",
              "  <div id=\"df-3fd587e9-ad65-441c-ad0e-7199565df724\" class=\"colab-df-container\">\n",
              "    <div>\n",
              "<style scoped>\n",
              "    .dataframe tbody tr th:only-of-type {\n",
              "        vertical-align: middle;\n",
              "    }\n",
              "\n",
              "    .dataframe tbody tr th {\n",
              "        vertical-align: top;\n",
              "    }\n",
              "\n",
              "    .dataframe thead th {\n",
              "        text-align: right;\n",
              "    }\n",
              "</style>\n",
              "<table border=\"1\" class=\"dataframe\">\n",
              "  <thead>\n",
              "    <tr style=\"text-align: right;\">\n",
              "      <th></th>\n",
              "      <th>Unnamed: 0</th>\n",
              "      <th>title</th>\n",
              "      <th>genre</th>\n",
              "      <th>year</th>\n",
              "      <th>certificate</th>\n",
              "      <th>runtime</th>\n",
              "      <th>user-votes</th>\n",
              "      <th>imdb-scores</th>\n",
              "      <th>metacritic-scores</th>\n",
              "      <th>descriptions</th>\n",
              "      <th>stars</th>\n",
              "    </tr>\n",
              "  </thead>\n",
              "  <tbody>\n",
              "    <tr>\n",
              "      <th>0</th>\n",
              "      <td>0</td>\n",
              "      <td>The Fall of the House of Usher</td>\n",
              "      <td>Drama,Horror,Mystery</td>\n",
              "      <td>2023.0</td>\n",
              "      <td>TV-MA</td>\n",
              "      <td>493</td>\n",
              "      <td>67677</td>\n",
              "      <td>8.0</td>\n",
              "      <td>No data</td>\n",
              "      <td>To secure their fortune (and future) two ruthl...</td>\n",
              "      <td>\\n    Stars:\\nCarla Gugino, \\nBruc...</td>\n",
              "    </tr>\n",
              "    <tr>\n",
              "      <th>1</th>\n",
              "      <td>1</td>\n",
              "      <td>Killers of the Flower Moon</td>\n",
              "      <td>Crime,Drama,History</td>\n",
              "      <td>2023.0</td>\n",
              "      <td>R</td>\n",
              "      <td>206</td>\n",
              "      <td>83339</td>\n",
              "      <td>8.0</td>\n",
              "      <td>89</td>\n",
              "      <td>When oil is discovered in 1920s Oklahoma under...</td>\n",
              "      <td>Director:\\nMartin Scorsese\\n| \\n    Stars:...</td>\n",
              "    </tr>\n",
              "    <tr>\n",
              "      <th>2</th>\n",
              "      <td>2</td>\n",
              "      <td>Bodies</td>\n",
              "      <td>Crime,Drama,History</td>\n",
              "      <td>2023.0</td>\n",
              "      <td>TV-MA</td>\n",
              "      <td>455</td>\n",
              "      <td>24785</td>\n",
              "      <td>7.4</td>\n",
              "      <td>No data</td>\n",
              "      <td>Four detectives in four different time periods...</td>\n",
              "      <td>\\n    Stars:\\nAmaka Okafor, \\nKyle...</td>\n",
              "    </tr>\n",
              "    <tr>\n",
              "      <th>3</th>\n",
              "      <td>3</td>\n",
              "      <td>Pain Hustlers</td>\n",
              "      <td>Crime,Drama</td>\n",
              "      <td>2023.0</td>\n",
              "      <td>R</td>\n",
              "      <td>122</td>\n",
              "      <td>21650</td>\n",
              "      <td>6.5</td>\n",
              "      <td>44</td>\n",
              "      <td>Liza dreams of a better life for herself and h...</td>\n",
              "      <td>Director:\\nDavid Yates\\n| \\n    Stars:\\nEm...</td>\n",
              "    </tr>\n",
              "    <tr>\n",
              "      <th>4</th>\n",
              "      <td>4</td>\n",
              "      <td>Gen V</td>\n",
              "      <td>Action,Adventure,Comedy</td>\n",
              "      <td>2023.0</td>\n",
              "      <td>TV-MA</td>\n",
              "      <td>50</td>\n",
              "      <td>47232</td>\n",
              "      <td>7.9</td>\n",
              "      <td>No data</td>\n",
              "      <td>From the world of \"The Boys\" comes \"Gen V,\" wh...</td>\n",
              "      <td>\\n    Stars:\\nJaz Sinclair, \\nChan...</td>\n",
              "    </tr>\n",
              "    <tr>\n",
              "      <th>5</th>\n",
              "      <td>5</td>\n",
              "      <td>A Haunting in Venice</td>\n",
              "      <td>Crime,Drama,Horror</td>\n",
              "      <td>2023.0</td>\n",
              "      <td>PG-13</td>\n",
              "      <td>103</td>\n",
              "      <td>55485</td>\n",
              "      <td>6.6</td>\n",
              "      <td>63</td>\n",
              "      <td>In post-World War II Venice, Poirot, now retir...</td>\n",
              "      <td>Director:\\nKenneth Branagh\\n| \\n    Stars:...</td>\n",
              "    </tr>\n",
              "    <tr>\n",
              "      <th>6</th>\n",
              "      <td>6</td>\n",
              "      <td>All the Light We Cannot See</td>\n",
              "      <td>Drama,History,War</td>\n",
              "      <td>2023.0</td>\n",
              "      <td>TV-MA</td>\n",
              "      <td>228</td>\n",
              "      <td>14208</td>\n",
              "      <td>7.7</td>\n",
              "      <td>No data</td>\n",
              "      <td>The story of Marie-Laure, a blind French teena...</td>\n",
              "      <td>\\n    Stars:\\nAria Mia Loberti, \\n...</td>\n",
              "    </tr>\n",
              "    <tr>\n",
              "      <th>7</th>\n",
              "      <td>7</td>\n",
              "      <td>The Killer</td>\n",
              "      <td>Action,Adventure,Crime</td>\n",
              "      <td>2023.0</td>\n",
              "      <td>R</td>\n",
              "      <td>118</td>\n",
              "      <td>47041</td>\n",
              "      <td>7.0</td>\n",
              "      <td>72</td>\n",
              "      <td>After a fateful near-miss, an assassin battles...</td>\n",
              "      <td>Director:\\nDavid Fincher\\n| \\n    Stars:\\n...</td>\n",
              "    </tr>\n",
              "    <tr>\n",
              "      <th>8</th>\n",
              "      <td>8</td>\n",
              "      <td>Invincible</td>\n",
              "      <td>Animation,Action,Adventure</td>\n",
              "      <td>2021.0</td>\n",
              "      <td>TV-MA</td>\n",
              "      <td>50</td>\n",
              "      <td>172289</td>\n",
              "      <td>8.7</td>\n",
              "      <td>No data</td>\n",
              "      <td>An adult animated series based on the Skybound...</td>\n",
              "      <td>\\n    Stars:\\nSteven Yeun, \\nJ.K. ...</td>\n",
              "    </tr>\n",
              "    <tr>\n",
              "      <th>9</th>\n",
              "      <td>9</td>\n",
              "      <td>The Gilded Age</td>\n",
              "      <td>Drama</td>\n",
              "      <td>2022.0</td>\n",
              "      <td>TV-MA</td>\n",
              "      <td>81</td>\n",
              "      <td>29509</td>\n",
              "      <td>8.0</td>\n",
              "      <td>No data</td>\n",
              "      <td>A wide-eyed young scion of a conservative fami...</td>\n",
              "      <td>\\n    Stars:\\nBen Ahlers, \\nDebra ...</td>\n",
              "    </tr>\n",
              "  </tbody>\n",
              "</table>\n",
              "</div>\n",
              "    <div class=\"colab-df-buttons\">\n",
              "\n",
              "  <div class=\"colab-df-container\">\n",
              "    <button class=\"colab-df-convert\" onclick=\"convertToInteractive('df-3fd587e9-ad65-441c-ad0e-7199565df724')\"\n",
              "            title=\"Convert this dataframe to an interactive table.\"\n",
              "            style=\"display:none;\">\n",
              "\n",
              "  <svg xmlns=\"http://www.w3.org/2000/svg\" height=\"24px\" viewBox=\"0 -960 960 960\">\n",
              "    <path d=\"M120-120v-720h720v720H120Zm60-500h600v-160H180v160Zm220 220h160v-160H400v160Zm0 220h160v-160H400v160ZM180-400h160v-160H180v160Zm440 0h160v-160H620v160ZM180-180h160v-160H180v160Zm440 0h160v-160H620v160Z\"/>\n",
              "  </svg>\n",
              "    </button>\n",
              "\n",
              "  <style>\n",
              "    .colab-df-container {\n",
              "      display:flex;\n",
              "      gap: 12px;\n",
              "    }\n",
              "\n",
              "    .colab-df-convert {\n",
              "      background-color: #E8F0FE;\n",
              "      border: none;\n",
              "      border-radius: 50%;\n",
              "      cursor: pointer;\n",
              "      display: none;\n",
              "      fill: #1967D2;\n",
              "      height: 32px;\n",
              "      padding: 0 0 0 0;\n",
              "      width: 32px;\n",
              "    }\n",
              "\n",
              "    .colab-df-convert:hover {\n",
              "      background-color: #E2EBFA;\n",
              "      box-shadow: 0px 1px 2px rgba(60, 64, 67, 0.3), 0px 1px 3px 1px rgba(60, 64, 67, 0.15);\n",
              "      fill: #174EA6;\n",
              "    }\n",
              "\n",
              "    .colab-df-buttons div {\n",
              "      margin-bottom: 4px;\n",
              "    }\n",
              "\n",
              "    [theme=dark] .colab-df-convert {\n",
              "      background-color: #3B4455;\n",
              "      fill: #D2E3FC;\n",
              "    }\n",
              "\n",
              "    [theme=dark] .colab-df-convert:hover {\n",
              "      background-color: #434B5C;\n",
              "      box-shadow: 0px 1px 3px 1px rgba(0, 0, 0, 0.15);\n",
              "      filter: drop-shadow(0px 1px 2px rgba(0, 0, 0, 0.3));\n",
              "      fill: #FFFFFF;\n",
              "    }\n",
              "  </style>\n",
              "\n",
              "    <script>\n",
              "      const buttonEl =\n",
              "        document.querySelector('#df-3fd587e9-ad65-441c-ad0e-7199565df724 button.colab-df-convert');\n",
              "      buttonEl.style.display =\n",
              "        google.colab.kernel.accessAllowed ? 'block' : 'none';\n",
              "\n",
              "      async function convertToInteractive(key) {\n",
              "        const element = document.querySelector('#df-3fd587e9-ad65-441c-ad0e-7199565df724');\n",
              "        const dataTable =\n",
              "          await google.colab.kernel.invokeFunction('convertToInteractive',\n",
              "                                                    [key], {});\n",
              "        if (!dataTable) return;\n",
              "\n",
              "        const docLinkHtml = 'Like what you see? Visit the ' +\n",
              "          '<a target=\"_blank\" href=https://colab.research.google.com/notebooks/data_table.ipynb>data table notebook</a>'\n",
              "          + ' to learn more about interactive tables.';\n",
              "        element.innerHTML = '';\n",
              "        dataTable['output_type'] = 'display_data';\n",
              "        await google.colab.output.renderOutput(dataTable, element);\n",
              "        const docLink = document.createElement('div');\n",
              "        docLink.innerHTML = docLinkHtml;\n",
              "        element.appendChild(docLink);\n",
              "      }\n",
              "    </script>\n",
              "  </div>\n",
              "\n",
              "\n",
              "<div id=\"df-21283f99-67d4-4053-97d2-5bf8713b7402\">\n",
              "  <button class=\"colab-df-quickchart\" onclick=\"quickchart('df-21283f99-67d4-4053-97d2-5bf8713b7402')\"\n",
              "            title=\"Suggest charts\"\n",
              "            style=\"display:none;\">\n",
              "\n",
              "<svg xmlns=\"http://www.w3.org/2000/svg\" height=\"24px\"viewBox=\"0 0 24 24\"\n",
              "     width=\"24px\">\n",
              "    <g>\n",
              "        <path d=\"M19 3H5c-1.1 0-2 .9-2 2v14c0 1.1.9 2 2 2h14c1.1 0 2-.9 2-2V5c0-1.1-.9-2-2-2zM9 17H7v-7h2v7zm4 0h-2V7h2v10zm4 0h-2v-4h2v4z\"/>\n",
              "    </g>\n",
              "</svg>\n",
              "  </button>\n",
              "\n",
              "<style>\n",
              "  .colab-df-quickchart {\n",
              "      --bg-color: #E8F0FE;\n",
              "      --fill-color: #1967D2;\n",
              "      --hover-bg-color: #E2EBFA;\n",
              "      --hover-fill-color: #174EA6;\n",
              "      --disabled-fill-color: #AAA;\n",
              "      --disabled-bg-color: #DDD;\n",
              "  }\n",
              "\n",
              "  [theme=dark] .colab-df-quickchart {\n",
              "      --bg-color: #3B4455;\n",
              "      --fill-color: #D2E3FC;\n",
              "      --hover-bg-color: #434B5C;\n",
              "      --hover-fill-color: #FFFFFF;\n",
              "      --disabled-bg-color: #3B4455;\n",
              "      --disabled-fill-color: #666;\n",
              "  }\n",
              "\n",
              "  .colab-df-quickchart {\n",
              "    background-color: var(--bg-color);\n",
              "    border: none;\n",
              "    border-radius: 50%;\n",
              "    cursor: pointer;\n",
              "    display: none;\n",
              "    fill: var(--fill-color);\n",
              "    height: 32px;\n",
              "    padding: 0;\n",
              "    width: 32px;\n",
              "  }\n",
              "\n",
              "  .colab-df-quickchart:hover {\n",
              "    background-color: var(--hover-bg-color);\n",
              "    box-shadow: 0 1px 2px rgba(60, 64, 67, 0.3), 0 1px 3px 1px rgba(60, 64, 67, 0.15);\n",
              "    fill: var(--button-hover-fill-color);\n",
              "  }\n",
              "\n",
              "  .colab-df-quickchart-complete:disabled,\n",
              "  .colab-df-quickchart-complete:disabled:hover {\n",
              "    background-color: var(--disabled-bg-color);\n",
              "    fill: var(--disabled-fill-color);\n",
              "    box-shadow: none;\n",
              "  }\n",
              "\n",
              "  .colab-df-spinner {\n",
              "    border: 2px solid var(--fill-color);\n",
              "    border-color: transparent;\n",
              "    border-bottom-color: var(--fill-color);\n",
              "    animation:\n",
              "      spin 1s steps(1) infinite;\n",
              "  }\n",
              "\n",
              "  @keyframes spin {\n",
              "    0% {\n",
              "      border-color: transparent;\n",
              "      border-bottom-color: var(--fill-color);\n",
              "      border-left-color: var(--fill-color);\n",
              "    }\n",
              "    20% {\n",
              "      border-color: transparent;\n",
              "      border-left-color: var(--fill-color);\n",
              "      border-top-color: var(--fill-color);\n",
              "    }\n",
              "    30% {\n",
              "      border-color: transparent;\n",
              "      border-left-color: var(--fill-color);\n",
              "      border-top-color: var(--fill-color);\n",
              "      border-right-color: var(--fill-color);\n",
              "    }\n",
              "    40% {\n",
              "      border-color: transparent;\n",
              "      border-right-color: var(--fill-color);\n",
              "      border-top-color: var(--fill-color);\n",
              "    }\n",
              "    60% {\n",
              "      border-color: transparent;\n",
              "      border-right-color: var(--fill-color);\n",
              "    }\n",
              "    80% {\n",
              "      border-color: transparent;\n",
              "      border-right-color: var(--fill-color);\n",
              "      border-bottom-color: var(--fill-color);\n",
              "    }\n",
              "    90% {\n",
              "      border-color: transparent;\n",
              "      border-bottom-color: var(--fill-color);\n",
              "    }\n",
              "  }\n",
              "</style>\n",
              "\n",
              "  <script>\n",
              "    async function quickchart(key) {\n",
              "      const quickchartButtonEl =\n",
              "        document.querySelector('#' + key + ' button');\n",
              "      quickchartButtonEl.disabled = true;  // To prevent multiple clicks.\n",
              "      quickchartButtonEl.classList.add('colab-df-spinner');\n",
              "      try {\n",
              "        const charts = await google.colab.kernel.invokeFunction(\n",
              "            'suggestCharts', [key], {});\n",
              "      } catch (error) {\n",
              "        console.error('Error during call to suggestCharts:', error);\n",
              "      }\n",
              "      quickchartButtonEl.classList.remove('colab-df-spinner');\n",
              "      quickchartButtonEl.classList.add('colab-df-quickchart-complete');\n",
              "    }\n",
              "    (() => {\n",
              "      let quickchartButtonEl =\n",
              "        document.querySelector('#df-21283f99-67d4-4053-97d2-5bf8713b7402 button');\n",
              "      quickchartButtonEl.style.display =\n",
              "        google.colab.kernel.accessAllowed ? 'block' : 'none';\n",
              "    })();\n",
              "  </script>\n",
              "</div>\n",
              "\n",
              "    </div>\n",
              "  </div>\n"
            ],
            "text/plain": [
              "   Unnamed: 0                           title                       genre  \\\n",
              "0           0  The Fall of the House of Usher        Drama,Horror,Mystery   \n",
              "1           1      Killers of the Flower Moon         Crime,Drama,History   \n",
              "2           2                          Bodies         Crime,Drama,History   \n",
              "3           3                   Pain Hustlers                 Crime,Drama   \n",
              "4           4                           Gen V     Action,Adventure,Comedy   \n",
              "5           5            A Haunting in Venice          Crime,Drama,Horror   \n",
              "6           6     All the Light We Cannot See           Drama,History,War   \n",
              "7           7                      The Killer      Action,Adventure,Crime   \n",
              "8           8                      Invincible  Animation,Action,Adventure   \n",
              "9           9                  The Gilded Age                       Drama   \n",
              "\n",
              "     year certificate runtime user-votes imdb-scores metacritic-scores  \\\n",
              "0  2023.0       TV-MA     493      67677         8.0           No data   \n",
              "1  2023.0           R     206      83339         8.0                89   \n",
              "2  2023.0       TV-MA     455      24785         7.4           No data   \n",
              "3  2023.0           R     122      21650         6.5                44   \n",
              "4  2023.0       TV-MA      50      47232         7.9           No data   \n",
              "5  2023.0       PG-13     103      55485         6.6                63   \n",
              "6  2023.0       TV-MA     228      14208         7.7           No data   \n",
              "7  2023.0           R     118      47041         7.0                72   \n",
              "8  2021.0       TV-MA      50     172289         8.7           No data   \n",
              "9  2022.0       TV-MA      81      29509         8.0           No data   \n",
              "\n",
              "                                        descriptions  \\\n",
              "0  To secure their fortune (and future) two ruthl...   \n",
              "1  When oil is discovered in 1920s Oklahoma under...   \n",
              "2  Four detectives in four different time periods...   \n",
              "3  Liza dreams of a better life for herself and h...   \n",
              "4  From the world of \"The Boys\" comes \"Gen V,\" wh...   \n",
              "5  In post-World War II Venice, Poirot, now retir...   \n",
              "6  The story of Marie-Laure, a blind French teena...   \n",
              "7  After a fateful near-miss, an assassin battles...   \n",
              "8  An adult animated series based on the Skybound...   \n",
              "9  A wide-eyed young scion of a conservative fami...   \n",
              "\n",
              "                                               stars  \n",
              "0              \\n    Stars:\\nCarla Gugino, \\nBruc...  \n",
              "1      Director:\\nMartin Scorsese\\n| \\n    Stars:...  \n",
              "2              \\n    Stars:\\nAmaka Okafor, \\nKyle...  \n",
              "3      Director:\\nDavid Yates\\n| \\n    Stars:\\nEm...  \n",
              "4              \\n    Stars:\\nJaz Sinclair, \\nChan...  \n",
              "5      Director:\\nKenneth Branagh\\n| \\n    Stars:...  \n",
              "6              \\n    Stars:\\nAria Mia Loberti, \\n...  \n",
              "7      Director:\\nDavid Fincher\\n| \\n    Stars:\\n...  \n",
              "8              \\n    Stars:\\nSteven Yeun, \\nJ.K. ...  \n",
              "9              \\n    Stars:\\nBen Ahlers, \\nDebra ...  "
            ]
          },
          "execution_count": 5,
          "metadata": {},
          "output_type": "execute_result"
        }
      ],
      "source": [
        "ds.head(10)"
      ]
    },
    {
      "cell_type": "code",
      "execution_count": null,
      "metadata": {
        "id": "8ToTjQUxYswb"
      },
      "outputs": [],
      "source": [
        "ds = ds.drop(columns=['Unnamed: 0', 'descriptions', 'stars'])"
      ]
    },
    {
      "cell_type": "code",
      "execution_count": null,
      "metadata": {
        "colab": {
          "base_uri": "https://localhost:8080/"
        },
        "id": "pWbsABZha_0m",
        "outputId": "e19ad2d5-290e-4bfe-86ab-81c53d417504"
      },
      "outputs": [
        {
          "name": "stderr",
          "output_type": "stream",
          "text": [
            "<ipython-input-7-53aef23a4612>:1: SettingWithCopyWarning: \n",
            "A value is trying to be set on a copy of a slice from a DataFrame\n",
            "\n",
            "See the caveats in the documentation: https://pandas.pydata.org/pandas-docs/stable/user_guide/indexing.html#returning-a-view-versus-a-copy\n",
            "  ds.runtime[ds.runtime == 'No data'] = -1\n"
          ]
        }
      ],
      "source": [
        "ds.runtime[ds.runtime == 'No data'] = -1\n",
        "ds['runtime'] = ds['runtime'].replace(',','', regex=True).astype('int')"
      ]
    },
    {
      "cell_type": "markdown",
      "metadata": {},
      "source": [
        "Глубокая мысль runtime bins заключается в том, что мы смотрим, является ли это коротким метром, фильмом на 1,5 часа, фильмом подольше, мини-сериалом или продолжительным сериалом"
      ]
    },
    {
      "cell_type": "code",
      "execution_count": null,
      "metadata": {
        "id": "CSxmq79JZvf3"
      },
      "outputs": [],
      "source": [
        "ds['runtimeBIN'] = pd.cut(ds['runtime'], bins=[0,60,100,240,1000,10000], labels = [0,1,2,3,4], include_lowest = True)"
      ]
    },
    {
      "cell_type": "code",
      "execution_count": null,
      "metadata": {
        "id": "Kc7RaWR0hHpQ"
      },
      "outputs": [],
      "source": [
        "ds['year'] = ds['year'].astype('float')\n",
        "ds['year_finish'] = ds['year'] % 10000\n",
        "ds['year_start'] = np.where(ds['year'] // 10000 == 0, ds['year_finish'], ds['year'] // 10000)"
      ]
    },
    {
      "cell_type": "code",
      "execution_count": null,
      "metadata": {
        "id": "9jiuCtgdlJGs"
      },
      "outputs": [],
      "source": [
        "ds = pd.concat([ds, pd.DataFrame(ds[\"genre\"].str.split(',').fillna('[]').tolist(), columns=['genre_1', 'genre_2', 'genre_3'])], axis=1)"
      ]
    },
    {
      "cell_type": "code",
      "execution_count": null,
      "metadata": {
        "id": "_WplGcYlT5O8"
      },
      "outputs": [],
      "source": [
        "ds['century_start'] = ds['year_start'] // 10\n",
        "ds['century_finish'] = ds['year_finish'] // 10"
      ]
    },
    {
      "cell_type": "code",
      "execution_count": null,
      "metadata": {
        "colab": {
          "base_uri": "https://localhost:8080/"
        },
        "id": "FFUqskLoma3E",
        "outputId": "5f476fca-bef4-45a0-85b3-1fdbab0ee1b2"
      },
      "outputs": [
        {
          "data": {
            "text/plain": [
              "Index(['Action', 'Adventure', 'Animation', 'Biography', 'Comedy', 'Crime',\n",
              "       'Documentary', 'Drama', 'Family', 'Fantasy', 'Film-Noir', 'Game-Show',\n",
              "       'History', 'Horror', 'Music', 'Musical', 'Mystery', 'Reality-TV',\n",
              "       'Romance', 'Sci-Fi', 'Short', 'Sport', 'Thriller', 'War', 'Western'],\n",
              "      dtype='object')"
            ]
          },
          "execution_count": 12,
          "metadata": {},
          "output_type": "execute_result"
        }
      ],
      "source": [
        "(ds['genre_2'].value_counts() + ds['genre_1'].value_counts() + ds['genre_3'].value_counts()).index"
      ]
    },
    {
      "cell_type": "code",
      "execution_count": null,
      "metadata": {
        "id": "v5ro7toBVwUV"
      },
      "outputs": [],
      "source": [
        "for i in range(len((ds['genre_2'].value_counts() + ds['genre_1'].value_counts() + ds['genre_3'].value_counts()).index)):\n",
        "  ds[(ds['genre_2'].value_counts() + ds['genre_1'].value_counts() + ds['genre_3'].value_counts()).index[i]] = 0"
      ]
    },
    {
      "cell_type": "code",
      "execution_count": null,
      "metadata": {
        "id": "xCU09VIiczH3"
      },
      "outputs": [],
      "source": [
        "ds['No_genre'] = 0"
      ]
    },
    {
      "cell_type": "code",
      "execution_count": null,
      "metadata": {
        "id": "IfUc_mVebdEZ"
      },
      "outputs": [],
      "source": [
        "ds['genre_2'] = ds['genre_2'].fillna('No_genre')\n",
        "ds['genre_3'] = ds['genre_3'].fillna('No_genre')"
      ]
    },
    {
      "cell_type": "code",
      "execution_count": null,
      "metadata": {
        "colab": {
          "base_uri": "https://localhost:8080/"
        },
        "id": "OfoN2AunXT9C",
        "outputId": "c783304a-04e2-492b-f682-ba50a2d80dcb"
      },
      "outputs": [
        {
          "name": "stderr",
          "output_type": "stream",
          "text": [
            "<ipython-input-16-c782aad7b2ba>:3: SettingWithCopyWarning: \n",
            "A value is trying to be set on a copy of a slice from a DataFrame\n",
            "\n",
            "See the caveats in the documentation: https://pandas.pydata.org/pandas-docs/stable/user_guide/indexing.html#returning-a-view-versus-a-copy\n",
            "  ds[ds['genre_'+str(i)][j]][j] = 1\n"
          ]
        }
      ],
      "source": [
        "for i in range(1,4):\n",
        "  for j in range(len(ds)):\n",
        "    ds[ds['genre_'+str(i)][j]][j] = 1\n"
      ]
    },
    {
      "cell_type": "markdown",
      "metadata": {},
      "source": [
        "Унифицируем зоопарк разных рейтингов с помощью гугления"
      ]
    },
    {
      "cell_type": "code",
      "execution_count": null,
      "metadata": {
        "id": "NklWjaVce-qr"
      },
      "outputs": [],
      "source": [
        "ds['certificate'] = ds['certificate'].replace({'TV-MA':'18+', 'R':'18+', 'TV-14':'14+', 'PG-13':'14+', 'No data':'Not_rated', 'TV-PG':'14+',\n",
        "                           'Not Rated':'Not_rated', 'PG':'14+', 'TV-G':'14+', 'Unrated':'Not_rated', 'Approved':'0+', 'G':'0+',\n",
        "                           'Passed':'0+', 'M':'18+', 'TV-Y7':'6+', 'NC-17':'18+', 'GP':'14+', '16+':'18+', 'X':'18+', 'TV-Y':'6+', '13+':'14+',\n",
        "                           'T':'14+', 'M/PG':'18+', 'MA-17':'18+'})"
      ]
    },
    {
      "cell_type": "code",
      "execution_count": null,
      "metadata": {
        "id": "nJMsvWK8iJ8L"
      },
      "outputs": [],
      "source": [
        "labelencoder = LabelEncoder()\n",
        "ds['certificate'] = labelencoder.fit_transform(ds['certificate'])\n",
        "ds['certificate'] = ds['certificate'].astype('int')"
      ]
    },
    {
      "cell_type": "code",
      "execution_count": null,
      "metadata": {
        "id": "tURDmEgVtj6R"
      },
      "outputs": [],
      "source": [
        "ds = ds[ds['imdb-scores'] != 'No data']\n",
        "ds = ds.drop_duplicates()"
      ]
    },
    {
      "cell_type": "code",
      "execution_count": null,
      "metadata": {
        "id": "8MzgoueBeHBh"
      },
      "outputs": [],
      "source": [
        "X = ds.drop(columns=['title', 'genre', 'year', 'runtime', 'imdb-scores', 'metacritic-scores', 'year_finish', 'year_start', 'genre_1', 'genre_2',\n",
        "                     'genre_3', 'No_genre'])\n",
        "y = ds['imdb-scores'].astype('float')"
      ]
    },
    {
      "cell_type": "code",
      "execution_count": null,
      "metadata": {
        "id": "Gqrk0_KkoWUC"
      },
      "outputs": [],
      "source": [
        "X['user-votes'] = pd.to_numeric(X['user-votes'], errors='coerce').fillna(0)"
      ]
    },
    {
      "cell_type": "markdown",
      "metadata": {},
      "source": [
        "### Обучение LGBM из коробки"
      ]
    },
    {
      "cell_type": "code",
      "execution_count": null,
      "metadata": {
        "id": "Vw9F-hUuir_o"
      },
      "outputs": [],
      "source": [
        "X_train, X_test, y_train, y_test = train_test_split(X, y, test_size=0.2, random_state=42)\n",
        "X_train, X_valid, y_train, y_valid = train_test_split(X_train, y_train, test_size=0.15, random_state=42)"
      ]
    },
    {
      "cell_type": "code",
      "execution_count": null,
      "metadata": {
        "id": "NFlXekUToHcc"
      },
      "outputs": [],
      "source": [
        "categ_feat_idx = sorted(list(range(5, len(X.columns))) + [0, 2])"
      ]
    },
    {
      "cell_type": "code",
      "execution_count": null,
      "metadata": {
        "id": "AseKHL7AksKq"
      },
      "outputs": [],
      "source": [
        "lgbm_model = LGBMRegressor(categorical_feature = categ_feat_idx, metric='mae')"
      ]
    },
    {
      "cell_type": "code",
      "execution_count": null,
      "metadata": {
        "colab": {
          "base_uri": "https://localhost:8080/"
        },
        "id": "7Qhqum1jn_vg",
        "outputId": "48bda57f-9285-424a-fe61-4f66b7cd2bcd"
      },
      "outputs": [
        {
          "name": "stderr",
          "output_type": "stream",
          "text": [
            "/usr/local/lib/python3.10/dist-packages/lightgbm/basic.py:1873: UserWarning: categorical_feature keyword has been found in `params` and will be ignored.\n",
            "Please use categorical_feature argument of the Dataset constructor to pass this parameter.\n",
            "  _log_warning(f'{key} keyword has been found in `params` and will be ignored.\\n'\n",
            "/usr/local/lib/python3.10/dist-packages/lightgbm/basic.py:1873: UserWarning: categorical_feature keyword has been found in `params` and will be ignored.\n",
            "Please use categorical_feature argument of the Dataset constructor to pass this parameter.\n",
            "  _log_warning(f'{key} keyword has been found in `params` and will be ignored.\\n'\n"
          ]
        },
        {
          "name": "stdout",
          "output_type": "stream",
          "text": [
            "[LightGBM] [Info] Auto-choosing row-wise multi-threading, the overhead of testing was 0.009404 seconds.\n",
            "You can set `force_row_wise=true` to remove the overhead.\n",
            "And if memory is not enough, you can set `force_col_wise=true`.\n",
            "[LightGBM] [Info] Total Bins 352\n",
            "[LightGBM] [Info] Number of data points in the train set: 32242, number of used features: 27\n",
            "[LightGBM] [Info] Start training from score 7.723200\n"
          ]
        }
      ],
      "source": [
        "lgbm_model.fit(X_train, y_train, eval_set=(X_valid, y_valid))\n",
        "lgbm_test_preds = lgbm_model.predict(X_test)"
      ]
    },
    {
      "cell_type": "code",
      "execution_count": null,
      "metadata": {
        "colab": {
          "base_uri": "https://localhost:8080/"
        },
        "id": "zPRxE38ekrx7",
        "outputId": "90d31a7f-e315-4e4b-ef15-498f93f98e05"
      },
      "outputs": [
        {
          "data": {
            "text/plain": [
              "0.12997468820078467"
            ]
          },
          "execution_count": 32,
          "metadata": {},
          "output_type": "execute_result"
        }
      ],
      "source": [
        "mean_absolute_error(y_test, lgbm_test_preds)"
      ]
    },
    {
      "cell_type": "markdown",
      "metadata": {
        "id": "x9v4xx0p9WH2"
      },
      "source": [
        "LGBM MAE 0.12997468820078467"
      ]
    },
    {
      "cell_type": "code",
      "execution_count": null,
      "metadata": {
        "colab": {
          "base_uri": "https://localhost:8080/"
        },
        "id": "lwV9xJd6-PqD",
        "outputId": "6365f4bb-1d65-4bec-93b0-9bf924089a5d"
      },
      "outputs": [
        {
          "data": {
            "text/plain": [
              "array([8.08400846, 9.48515462, 8.41849546, 9.07196803, 6.663346  ])"
            ]
          },
          "execution_count": 33,
          "metadata": {},
          "output_type": "execute_result"
        }
      ],
      "source": [
        "lgbm_test_preds[:5]"
      ]
    },
    {
      "cell_type": "markdown",
      "metadata": {},
      "source": [
        "Смотрим, похоже ли итоговое распределение на исходное. Вдруг получилось так, что мы предсказываем с погрешностью 0.2 балла все фильмы из диапазона скора 7.9-8.1?"
      ]
    },
    {
      "cell_type": "code",
      "execution_count": null,
      "metadata": {
        "colab": {
          "base_uri": "https://localhost:8080/",
          "height": 680
        },
        "id": "_JFvioRPkrlc",
        "outputId": "c66f8072-f36b-4e8c-b0cc-ac727451dc1d"
      },
      "outputs": [
        {
          "name": "stderr",
          "output_type": "stream",
          "text": [
            "<ipython-input-36-5e3208cb7380>:10: UserWarning: \n",
            "\n",
            "`distplot` is a deprecated function and will be removed in seaborn v0.14.0.\n",
            "\n",
            "Please adapt your code to use either `displot` (a figure-level function with\n",
            "similar flexibility) or `histplot` (an axes-level function for histograms).\n",
            "\n",
            "For a guide to updating your code to use the new functions, please see\n",
            "https://gist.github.com/mwaskom/de44147ed2974457ad6372750bbe5751\n",
            "\n",
            "  sns.distplot(lgbm_test_preds, hist=True, kde=False,\n"
          ]
        },
        {
          "data": {
            "text/plain": [
              "Text(0, 0.5, 'Number of scores')"
            ]
          },
          "execution_count": 36,
          "metadata": {},
          "output_type": "execute_result"
        },
        {
          "data": {
            "image/png": "[encoded data removed]",
            "text/plain": [
              "<Figure size 640x480 with 1 Axes>"
            ]
          },
          "metadata": {},
          "output_type": "display_data"
        }
      ],
      "source": [
        "# Import the libraries\n",
        "import matplotlib.pyplot as plt\n",
        "import seaborn as sns\n",
        "\n",
        "# matplotlib histogram\n",
        "plt.hist(lgbm_test_preds, color = 'blue', edgecolor = 'black',\n",
        "         bins = int(180/5))\n",
        "\n",
        "# seaborn histogram\n",
        "sns.distplot(lgbm_test_preds, hist=True, kde=False,\n",
        "             bins=int(180/5), color = 'blue',\n",
        "             hist_kws={'edgecolor':'black'})\n",
        "# Add labels\n",
        "plt.title('Histogram of scores')\n",
        "plt.xlabel('Predicted Score')\n",
        "plt.ylabel('Number of scores')"
      ]
    },
    {
      "cell_type": "markdown",
      "metadata": {},
      "source": [
        "### Кастомный LGBM c Cython "
      ]
    },
    {
      "cell_type": "code",
      "execution_count": null,
      "metadata": {
        "colab": {
          "base_uri": "https://localhost:8080/"
        },
        "id": "ykOWsEfQEdy6",
        "outputId": "eadeb5e5-7c60-4b46-a25b-6468ff896233"
      },
      "outputs": [
        {
          "name": "stdout",
          "output_type": "stream",
          "text": [
            "The Cython extension is already loaded. To reload it, use:\n",
            "  %reload_ext Cython\n"
          ]
        }
      ],
      "source": [
        "%load_ext Cython"
      ]
    },
    {
      "cell_type": "code",
      "execution_count": null,
      "metadata": {
        "id": "IU1TexjoVy_X"
      },
      "outputs": [],
      "source": [
        "%%cython -a\n",
        "\n",
        "import itertools\n",
        "import numpy as np\n",
        "cimport numpy as np\n",
        "from itertools import *\n",
        "from tqdm import tqdm_notebook\n",
        "from sklearn.metrics import mean_squared_error as mse\n",
        "\n",
        "cdef class RegressionTreeFastMse:\n",
        "\n",
        "    cdef public int max_depth\n",
        "    cdef public int feature_idx\n",
        "    cdef public int min_size\n",
        "    cdef public int averages\n",
        "\n",
        "    cdef public np.float64_t feature_threshold\n",
        "    cdef public np.float64_t value\n",
        "\n",
        "    cdef RegressionTreeFastMse left\n",
        "    cdef RegressionTreeFastMse right\n",
        "\n",
        "    def __init__(self, max_depth=3, min_size=4, averages=1):\n",
        "\n",
        "        self.max_depth = max_depth\n",
        "        self.min_size = min_size\n",
        "        self.value = 0\n",
        "        self.feature_idx = -1\n",
        "        self.feature_threshold = 0\n",
        "        self.left = None\n",
        "        self.right = None\n",
        "\n",
        "    def fit(self, np.ndarray[np.float64_t, ndim=2] X, np.ndarray[np.float64_t, ndim=1] y):\n",
        "\n",
        "        cdef np.float64_t mean1 = 0.0\n",
        "        cdef np.float64_t mean2 = 0.0\n",
        "        cdef long N = X.shape[0]\n",
        "        cdef long N1 = X.shape[0]\n",
        "        cdef long N2 = 0\n",
        "        cdef np.float64_t delta1 = 0.0\n",
        "        cdef np.float64_t delta2 = 0.0\n",
        "        cdef np.float64_t sm1 = 0.0\n",
        "        cdef np.float64_t sm2 = 0.0\n",
        "        cdef list index_tuples\n",
        "        cdef list stuff\n",
        "        cdef long idx = 0\n",
        "\n",
        "        cdef np.float64_t prev_error1 = 0.0\n",
        "        cdef np.float64_t prev_error2 = 0.0\n",
        "        cdef long thres = 0\n",
        "        cdef np.float64_t error = 0.0\n",
        "\n",
        "        cdef np.ndarray[long, ndim=1] idxs\n",
        "\n",
        "        cdef np.float64_t x = 0.0\n",
        "\n",
        "\n",
        "        self.value = y.mean()\n",
        "\n",
        "        base_error = ((y - self.value) ** 2).sum()\n",
        "        error = base_error\n",
        "        flag = 0\n",
        "\n",
        "\n",
        "        if self.max_depth <= 1:\n",
        "            return\n",
        "\n",
        "        dim_shape = X.shape[1]\n",
        "\n",
        "        left_value, right_value = 0, 0\n",
        "\n",
        "        for feat in range(dim_shape):\n",
        "\n",
        "            prev_error1, prev_error2 = base_error, 0\n",
        "            idxs = np.argsort(X[:, feat])\n",
        "\n",
        "\n",
        "            mean1, mean2 = y.mean(), 0\n",
        "            sm1, sm2 = y.sum(), 0\n",
        "\n",
        "            N = X.shape[0]\n",
        "            N1, N2 = N, 0\n",
        "            thres = 1\n",
        "\n",
        "            while thres < N - 1:\n",
        "                N1 -= 1\n",
        "                N2 += 1\n",
        "\n",
        "                idx = idxs[thres]\n",
        "                x = X[idx, feat]\n",
        "\n",
        "\n",
        "                delta1 = (sm1 - y[idx]) * 1.0 / N1 - mean1\n",
        "                delta2 = (sm2 + y[idx]) * 1.0 / N2 - mean2\n",
        "\n",
        "\n",
        "                sm1 -= y[idx]\n",
        "                sm2 += y[idx]\n",
        "\n",
        "\n",
        "                prev_error1 += (delta1**2) * N1\n",
        "                prev_error1 -= (y[idx] - mean1)**2\n",
        "                prev_error1 -= 2 * delta1 * (sm1 - mean1 * N1)\n",
        "                mean1 = sm1/N1\n",
        "\n",
        "                prev_error2 += (delta2**2) * N2\n",
        "                prev_error2 += (y[idx] - mean2)**2\n",
        "                prev_error2 -= 2 * delta2 * (sm2 - mean2 * N2)\n",
        "                mean2 = sm2/N2\n",
        "\n",
        "\n",
        "                if thres < N - 1 and np.abs(x - X[idxs[thres + 1], feat]) < 1e-5:\n",
        "                    thres += 1\n",
        "                    continue\n",
        "\n",
        "                if (prev_error1 + prev_error2 < error):\n",
        "                    if (min(N1,N2) > self.min_size):\n",
        "\n",
        "\n",
        "                        self.feature_idx, self.feature_threshold = feat, x\n",
        "\n",
        "                        left_value, right_value = mean1, mean2\n",
        "\n",
        "\n",
        "                        flag = 1\n",
        "                        error = prev_error1 + prev_error2\n",
        "\n",
        "                thres += 1\n",
        "\n",
        "\n",
        "        if self.feature_idx == -1:\n",
        "            return\n",
        "\n",
        "\n",
        "        self.left = RegressionTreeFastMse(self.max_depth - 1)\n",
        "        self.left.value = left_value\n",
        "        self.right = RegressionTreeFastMse(self.max_depth - 1)\n",
        "        self.right.value = right_value\n",
        "\n",
        "\n",
        "        idxs_l = (X[:, self.feature_idx] > self.feature_threshold)\n",
        "        idxs_r = (X[:, self.feature_idx] <= self.feature_threshold)\n",
        "\n",
        "\n",
        "        self.left.fit(X[idxs_l, :], y[idxs_l])\n",
        "        self.right.fit(X[idxs_r, :], y[idxs_r])\n",
        "\n",
        "    def __predict(self, np.ndarray[np.float64_t, ndim=1] x):\n",
        "\n",
        "        if self.feature_idx == -1:\n",
        "            return self.value\n",
        "\n",
        "        if x[self.feature_idx] > self.feature_threshold:\n",
        "            return self.left.__predict(x)\n",
        "        else:\n",
        "            return self.right.__predict(x)\n",
        "\n",
        "    def predict(self, np.ndarray[np.float64_t, ndim=2] X):\n",
        "\n",
        "        y = np.zeros(X.shape[0])\n",
        "        for i in range(X.shape[0]):\n",
        "            y[i] = self.__predict(X[i])\n",
        "\n",
        "        return y\n",
        "\n",
        "\n",
        "\n",
        "class GradientBoosting():\n",
        "\n",
        "    def __init__(self, n_estimators=100, learning_rate=0.1, max_depth=3,\n",
        "                 random_state=17, n_samples = 15, min_size = 5, base_tree='Bagging'):\n",
        "\n",
        "        self.n_estimators = n_estimators\n",
        "        self.max_depth = max_depth\n",
        "        self.learning_rate = learning_rate\n",
        "        self.initialization = lambda y: np.mean(y) * np.ones([y.shape[0]])\n",
        "        self.min_size = min_size\n",
        "        self.loss_by_iter = []\n",
        "        self.trees_ = []\n",
        "        self.loss_by_iter_test = []\n",
        "        self.n_samples = n_samples\n",
        "        self.base_tree = base_tree\n",
        "\n",
        "\n",
        "    def fit(self, X, y):\n",
        "        self.X = X\n",
        "        self.y = y\n",
        "        b = self.initialization(y)\n",
        "\n",
        "        prediction = b.copy()\n",
        "\n",
        "        for t in tqdm_notebook(range(self.n_estimators)):\n",
        "\n",
        "            if t == 0:\n",
        "                resid = y\n",
        "            else:\n",
        "\n",
        "                resid = (y - prediction)\n",
        "\n",
        "\n",
        "            if self.base_tree == 'Bagging':\n",
        "                tree = Bagging(max_depth=self.max_depth,\n",
        "                                       min_size = self.min_size)\n",
        "            if self.base_tree == 'Tree':\n",
        "                tree = RegressionTreeFastMse(max_depth=self.max_depth,\n",
        "                                          min_size = self.min_size)\n",
        "\n",
        "\n",
        "            tree.fit(X, resid)\n",
        "\n",
        "            b = tree.predict(X).reshape([X.shape[0]])\n",
        "            self.trees_.append(tree)\n",
        "            prediction += self.learning_rate * b\n",
        "\n",
        "            if t > 0:\n",
        "                self.loss_by_iter.append(mse(y,prediction))\n",
        "\n",
        "        return self\n",
        "\n",
        "    def predict(self, X):\n",
        "\n",
        "\n",
        "        pred = np.ones([X.shape[0]]) * np.mean(self.y)\n",
        "\n",
        "        for t in range(self.n_estimators):\n",
        "            pred += self.learning_rate * self.trees_[t].predict(X).reshape([X.shape[0]])\n",
        "\n",
        "        return pred"
      ]
    },
    {
      "cell_type": "code",
      "execution_count": null,
      "metadata": {
        "id": "utjbSgW7Vyzv"
      },
      "outputs": [],
      "source": [
        "X_train_numpy = X_train.to_numpy()\n",
        "X_test_numpy = X_test.to_numpy()\n",
        "y_train_numpy = y_train.to_numpy()"
      ]
    },
    {
      "cell_type": "code",
      "execution_count": null,
      "metadata": {
        "id": "3nSWnPY1Hsic"
      },
      "outputs": [],
      "source": [
        "GDB = GradientBoosting(n_estimators=50, base_tree='Tree')\n",
        "GDB.fit(X_train_numpy, y_train_numpy)\n",
        "x_pred_our_GDB = GDB.predict(X_test_numpy)\n",
        "plt.grid()\n",
        "plt.title('Loss by iterations')\n",
        "plt.plot(GDB.loss_by_iter)"
      ]
    },
    {
      "cell_type": "code",
      "execution_count": null,
      "metadata": {
        "id": "Ye4btbS7HzBo"
      },
      "outputs": [],
      "source": [
        "mean_absolute_error(y_test, x_pred_our_GDB)"
      ]
    },
    {
      "cell_type": "markdown",
      "metadata": {
        "id": "bzjxogL4H4kq"
      },
      "source": [
        "OUR GDB MAE 0.3640009655576941"
      ]
    }
  ],
  "metadata": {
    "colab": {
      "provenance": []
    },
    "kernelspec": {
      "display_name": "Python 3",
      "name": "python3"
    },
    "language_info": {
      "name": "python"
    }
  },
  "nbformat": 4,
  "nbformat_minor": 0
}
