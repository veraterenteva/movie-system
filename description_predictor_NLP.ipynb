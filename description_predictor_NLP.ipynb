{
  "cells": [
    {
      "cell_type": "markdown",
      "metadata": {},
      "source": [
        "# Предсказание описаний"
      ]
    },
    {
      "cell_type": "code",
      "execution_count": null,
      "metadata": {
        "id": "6UdPquk6EVOT"
      },
      "outputs": [],
      "source": [
        "!pip install --upgrade openai"
      ]
    },
    {
      "cell_type": "markdown",
      "metadata": {},
      "source": [
        "В ходе данной работы я генерировала продолжения описаний фильмов, датасет всё тот же с фильмами с imdb :)"
      ]
    },
    {
      "cell_type": "markdown",
      "metadata": {
        "id": "nnjJu8ai6cze"
      },
      "source": [
        "### Подгружаем датасет и немного обрабатываем"
      ]
    },
    {
      "cell_type": "code",
      "execution_count": null,
      "metadata": {
        "id": "00JV-FUBNNKO"
      },
      "outputs": [],
      "source": [
        "import numpy as np\n",
        "import pandas as pd"
      ]
    },
    {
      "cell_type": "code",
      "execution_count": null,
      "metadata": {
        "id": "EcUCcQ11NSFh"
      },
      "outputs": [],
      "source": [
        "ds = pd.read_csv('movies_50000.csv')"
      ]
    },
    {
      "cell_type": "code",
      "execution_count": null,
      "metadata": {
        "colab": {
          "base_uri": "https://localhost:8080/"
        },
        "id": "-2qCBd87eIp-",
        "outputId": "26a18e65-329b-4073-a22a-8edac1e0693f"
      },
      "outputs": [
        {
          "name": "stderr",
          "output_type": "stream",
          "text": [
            "<ipython-input-3-68f6382cc861>:2: SettingWithCopyWarning: \n",
            "A value is trying to be set on a copy of a slice from a DataFrame.\n",
            "Try using .loc[row_indexer,col_indexer] = value instead\n",
            "\n",
            "See the caveats in the documentation: https://pandas.pydata.org/pandas-docs/stable/user_guide/indexing.html#returning-a-view-versus-a-copy\n",
            "  ds['user-votes'] = pd.to_numeric(ds['user-votes'], errors='coerce').fillna(0)\n"
          ]
        }
      ],
      "source": [
        "ds = ds[ds['user-votes'] != 'No data']\n",
        "ds['user-votes'] = pd.to_numeric(ds['user-votes'], errors='coerce').fillna(0)"
      ]
    },
    {
      "cell_type": "code",
      "execution_count": null,
      "metadata": {
        "id": "hjMV6tq2frKX"
      },
      "outputs": [],
      "source": [
        "ds = ds.drop(columns='Unnamed: 0')"
      ]
    },
    {
      "cell_type": "code",
      "execution_count": null,
      "metadata": {
        "id": "EyQHcmi4f9ys"
      },
      "outputs": [],
      "source": [
        "ds = ds.drop_duplicates().sort_values(by=['user-votes'], axis=0, ascending=False)"
      ]
    },
    {
      "cell_type": "markdown",
      "metadata": {
        "id": "JYlEITBdclUq"
      },
      "source": [
        "Минимальный размер описания 10 токенов, максимальный 436"
      ]
    },
    {
      "cell_type": "code",
      "execution_count": null,
      "metadata": {
        "colab": {
          "base_uri": "https://localhost:8080/"
        },
        "id": "eMFEP_tfNZ6r",
        "outputId": "8ba27ef2-c3a0-4048-c604-eb99858b1ce5"
      },
      "outputs": [
        {
          "data": {
            "text/plain": [
              "10"
            ]
          },
          "execution_count": 9,
          "metadata": {},
          "output_type": "execute_result"
        }
      ],
      "source": [
        "min(ds.descriptions.str.len())"
      ]
    },
    {
      "cell_type": "code",
      "execution_count": null,
      "metadata": {
        "colab": {
          "base_uri": "https://localhost:8080/",
          "height": 615
        },
        "id": "f_nBZYcJDapF",
        "outputId": "4dd7da0e-87d9-4341-9e3e-07aa8c836831"
      },
      "outputs": [
        {
          "data": {
            "text/html": [
              "\n",
              "  <div id=\"df-23a3fd90-22c4-4cd0-9491-a0a94a143942\" class=\"colab-df-container\">\n",
              "    <div>\n",
              "<style scoped>\n",
              "    .dataframe tbody tr th:only-of-type {\n",
              "        vertical-align: middle;\n",
              "    }\n",
              "\n",
              "    .dataframe tbody tr th {\n",
              "        vertical-align: top;\n",
              "    }\n",
              "\n",
              "    .dataframe thead th {\n",
              "        text-align: right;\n",
              "    }\n",
              "</style>\n",
              "<table border=\"1\" class=\"dataframe\">\n",
              "  <thead>\n",
              "    <tr style=\"text-align: right;\">\n",
              "      <th></th>\n",
              "      <th>title</th>\n",
              "      <th>genre</th>\n",
              "      <th>year</th>\n",
              "      <th>certificate</th>\n",
              "      <th>runtime</th>\n",
              "      <th>user-votes</th>\n",
              "      <th>imdb-scores</th>\n",
              "      <th>metacritic-scores</th>\n",
              "      <th>descriptions</th>\n",
              "      <th>stars</th>\n",
              "    </tr>\n",
              "  </thead>\n",
              "  <tbody>\n",
              "    <tr>\n",
              "      <th>120</th>\n",
              "      <td>The Shawshank Redemption</td>\n",
              "      <td>Drama</td>\n",
              "      <td>1994.0</td>\n",
              "      <td>R</td>\n",
              "      <td>142</td>\n",
              "      <td>2818211</td>\n",
              "      <td>9.3</td>\n",
              "      <td>82</td>\n",
              "      <td>Over the course of several years, two convicts...</td>\n",
              "      <td>Director:\\nFrank Darabont\\n| \\n    Stars:\\...</td>\n",
              "    </tr>\n",
              "    <tr>\n",
              "      <th>179</th>\n",
              "      <td>The Dark Knight</td>\n",
              "      <td>Action,Crime,Drama</td>\n",
              "      <td>2008.0</td>\n",
              "      <td>PG-13</td>\n",
              "      <td>152</td>\n",
              "      <td>2799705</td>\n",
              "      <td>9.0</td>\n",
              "      <td>84</td>\n",
              "      <td>When the menace known as the Joker wreaks havo...</td>\n",
              "      <td>Director:\\nChristopher Nolan\\n| \\n    Star...</td>\n",
              "    </tr>\n",
              "    <tr>\n",
              "      <th>162</th>\n",
              "      <td>Fight Club</td>\n",
              "      <td>Drama</td>\n",
              "      <td>1999.0</td>\n",
              "      <td>R</td>\n",
              "      <td>139</td>\n",
              "      <td>2253243</td>\n",
              "      <td>8.8</td>\n",
              "      <td>67</td>\n",
              "      <td>An insomniac office worker and a devil-may-car...</td>\n",
              "      <td>Director:\\nDavid Fincher\\n| \\n    Stars:\\n...</td>\n",
              "    </tr>\n",
              "    <tr>\n",
              "      <th>15</th>\n",
              "      <td>Game of Thrones</td>\n",
              "      <td>Action,Adventure,Drama</td>\n",
              "      <td>20112019.0</td>\n",
              "      <td>TV-MA</td>\n",
              "      <td>4,189</td>\n",
              "      <td>2221168</td>\n",
              "      <td>9.2</td>\n",
              "      <td>No data</td>\n",
              "      <td>Nine noble families fight for control over the...</td>\n",
              "      <td>\\n    Stars:\\nEmilia Clarke, \\nPet...</td>\n",
              "    </tr>\n",
              "    <tr>\n",
              "      <th>341</th>\n",
              "      <td>Forrest Gump</td>\n",
              "      <td>Drama,Romance</td>\n",
              "      <td>1994.0</td>\n",
              "      <td>PG-13</td>\n",
              "      <td>142</td>\n",
              "      <td>2194831</td>\n",
              "      <td>8.8</td>\n",
              "      <td>82</td>\n",
              "      <td>The history of the United States from the 1950...</td>\n",
              "      <td>Director:\\nRobert Zemeckis\\n| \\n    Stars:...</td>\n",
              "    </tr>\n",
              "    <tr>\n",
              "      <th>...</th>\n",
              "      <td>...</td>\n",
              "      <td>...</td>\n",
              "      <td>...</td>\n",
              "      <td>...</td>\n",
              "      <td>...</td>\n",
              "      <td>...</td>\n",
              "      <td>...</td>\n",
              "      <td>...</td>\n",
              "      <td>...</td>\n",
              "      <td>...</td>\n",
              "    </tr>\n",
              "    <tr>\n",
              "      <th>356</th>\n",
              "      <td>Doctor Who</td>\n",
              "      <td>Adventure,Drama,Family</td>\n",
              "      <td>19631989.0</td>\n",
              "      <td>TV-PG</td>\n",
              "      <td>45</td>\n",
              "      <td>38616</td>\n",
              "      <td>8.4</td>\n",
              "      <td>No data</td>\n",
              "      <td>The adventures in time and space of the Doctor...</td>\n",
              "      <td>\\n    Stars:\\nWilliam Hartnell, \\n...</td>\n",
              "    </tr>\n",
              "    <tr>\n",
              "      <th>8056</th>\n",
              "      <td>Heist</td>\n",
              "      <td>Action,Crime,Drama</td>\n",
              "      <td>2001.0</td>\n",
              "      <td>R</td>\n",
              "      <td>109</td>\n",
              "      <td>38604</td>\n",
              "      <td>6.5</td>\n",
              "      <td>66</td>\n",
              "      <td>A career jewel thief finds himself at tense od...</td>\n",
              "      <td>Director:\\nDavid Mamet\\n| \\n    Stars:\\nGe...</td>\n",
              "    </tr>\n",
              "    <tr>\n",
              "      <th>6973</th>\n",
              "      <td>Undisputed 2: Last Man Standing</td>\n",
              "      <td>Action,Crime,Drama</td>\n",
              "      <td>2006.0</td>\n",
              "      <td>R</td>\n",
              "      <td>98</td>\n",
              "      <td>38600</td>\n",
              "      <td>7.0</td>\n",
              "      <td>No data</td>\n",
              "      <td>Sequel to the 2002 film. This time, Heavyweigh...</td>\n",
              "      <td>Director:\\nIsaac Florentine\\n| \\n    Stars...</td>\n",
              "    </tr>\n",
              "    <tr>\n",
              "      <th>2881</th>\n",
              "      <td>Freaks</td>\n",
              "      <td>Drama,Mystery,Sci-Fi</td>\n",
              "      <td>2018.0</td>\n",
              "      <td>R</td>\n",
              "      <td>105</td>\n",
              "      <td>38591</td>\n",
              "      <td>6.7</td>\n",
              "      <td>63</td>\n",
              "      <td>A bold girl discovers a bizarre, threatening, ...</td>\n",
              "      <td>Directors:\\nZach Lipovsky, \\nAdam B. Stein...</td>\n",
              "    </tr>\n",
              "    <tr>\n",
              "      <th>59</th>\n",
              "      <td>Fools Rush In</td>\n",
              "      <td>Comedy,Drama,Romance</td>\n",
              "      <td>1997.0</td>\n",
              "      <td>PG-13</td>\n",
              "      <td>109</td>\n",
              "      <td>38587</td>\n",
              "      <td>6.1</td>\n",
              "      <td>37</td>\n",
              "      <td>After a one night stand with Alex, Isabel real...</td>\n",
              "      <td>Director:\\nAndy Tennant\\n| \\n    Stars:\\nM...</td>\n",
              "    </tr>\n",
              "  </tbody>\n",
              "</table>\n",
              "<p>3000 rows × 10 columns</p>\n",
              "</div>\n",
              "    <div class=\"colab-df-buttons\">\n",
              "\n",
              "  <div class=\"colab-df-container\">\n",
              "    <button class=\"colab-df-convert\" onclick=\"convertToInteractive('df-23a3fd90-22c4-4cd0-9491-a0a94a143942')\"\n",
              "            title=\"Convert this dataframe to an interactive table.\"\n",
              "            style=\"display:none;\">\n",
              "\n",
              "  <svg xmlns=\"http://www.w3.org/2000/svg\" height=\"24px\" viewBox=\"0 -960 960 960\">\n",
              "    <path d=\"M120-120v-720h720v720H120Zm60-500h600v-160H180v160Zm220 220h160v-160H400v160Zm0 220h160v-160H400v160ZM180-400h160v-160H180v160Zm440 0h160v-160H620v160ZM180-180h160v-160H180v160Zm440 0h160v-160H620v160Z\"/>\n",
              "  </svg>\n",
              "    </button>\n",
              "\n",
              "  <style>\n",
              "    .colab-df-container {\n",
              "      display:flex;\n",
              "      gap: 12px;\n",
              "    }\n",
              "\n",
              "    .colab-df-convert {\n",
              "      background-color: #E8F0FE;\n",
              "      border: none;\n",
              "      border-radius: 50%;\n",
              "      cursor: pointer;\n",
              "      display: none;\n",
              "      fill: #1967D2;\n",
              "      height: 32px;\n",
              "      padding: 0 0 0 0;\n",
              "      width: 32px;\n",
              "    }\n",
              "\n",
              "    .colab-df-convert:hover {\n",
              "      background-color: #E2EBFA;\n",
              "      box-shadow: 0px 1px 2px rgba(60, 64, 67, 0.3), 0px 1px 3px 1px rgba(60, 64, 67, 0.15);\n",
              "      fill: #174EA6;\n",
              "    }\n",
              "\n",
              "    .colab-df-buttons div {\n",
              "      margin-bottom: 4px;\n",
              "    }\n",
              "\n",
              "    [theme=dark] .colab-df-convert {\n",
              "      background-color: #3B4455;\n",
              "      fill: #D2E3FC;\n",
              "    }\n",
              "\n",
              "    [theme=dark] .colab-df-convert:hover {\n",
              "      background-color: #434B5C;\n",
              "      box-shadow: 0px 1px 3px 1px rgba(0, 0, 0, 0.15);\n",
              "      filter: drop-shadow(0px 1px 2px rgba(0, 0, 0, 0.3));\n",
              "      fill: #FFFFFF;\n",
              "    }\n",
              "  </style>\n",
              "\n",
              "    <script>\n",
              "      const buttonEl =\n",
              "        document.querySelector('#df-23a3fd90-22c4-4cd0-9491-a0a94a143942 button.colab-df-convert');\n",
              "      buttonEl.style.display =\n",
              "        google.colab.kernel.accessAllowed ? 'block' : 'none';\n",
              "\n",
              "      async function convertToInteractive(key) {\n",
              "        const element = document.querySelector('#df-23a3fd90-22c4-4cd0-9491-a0a94a143942');\n",
              "        const dataTable =\n",
              "          await google.colab.kernel.invokeFunction('convertToInteractive',\n",
              "                                                    [key], {});\n",
              "        if (!dataTable) return;\n",
              "\n",
              "        const docLinkHtml = 'Like what you see? Visit the ' +\n",
              "          '<a target=\"_blank\" href=https://colab.research.google.com/notebooks/data_table.ipynb>data table notebook</a>'\n",
              "          + ' to learn more about interactive tables.';\n",
              "        element.innerHTML = '';\n",
              "        dataTable['output_type'] = 'display_data';\n",
              "        await google.colab.output.renderOutput(dataTable, element);\n",
              "        const docLink = document.createElement('div');\n",
              "        docLink.innerHTML = docLinkHtml;\n",
              "        element.appendChild(docLink);\n",
              "      }\n",
              "    </script>\n",
              "  </div>\n",
              "\n",
              "\n",
              "<div id=\"df-df53874a-3371-4246-9043-37a336e34c25\">\n",
              "  <button class=\"colab-df-quickchart\" onclick=\"quickchart('df-df53874a-3371-4246-9043-37a336e34c25')\"\n",
              "            title=\"Suggest charts\"\n",
              "            style=\"display:none;\">\n",
              "\n",
              "<svg xmlns=\"http://www.w3.org/2000/svg\" height=\"24px\"viewBox=\"0 0 24 24\"\n",
              "     width=\"24px\">\n",
              "    <g>\n",
              "        <path d=\"M19 3H5c-1.1 0-2 .9-2 2v14c0 1.1.9 2 2 2h14c1.1 0 2-.9 2-2V5c0-1.1-.9-2-2-2zM9 17H7v-7h2v7zm4 0h-2V7h2v10zm4 0h-2v-4h2v4z\"/>\n",
              "    </g>\n",
              "</svg>\n",
              "  </button>\n",
              "\n",
              "<style>\n",
              "  .colab-df-quickchart {\n",
              "      --bg-color: #E8F0FE;\n",
              "      --fill-color: #1967D2;\n",
              "      --hover-bg-color: #E2EBFA;\n",
              "      --hover-fill-color: #174EA6;\n",
              "      --disabled-fill-color: #AAA;\n",
              "      --disabled-bg-color: #DDD;\n",
              "  }\n",
              "\n",
              "  [theme=dark] .colab-df-quickchart {\n",
              "      --bg-color: #3B4455;\n",
              "      --fill-color: #D2E3FC;\n",
              "      --hover-bg-color: #434B5C;\n",
              "      --hover-fill-color: #FFFFFF;\n",
              "      --disabled-bg-color: #3B4455;\n",
              "      --disabled-fill-color: #666;\n",
              "  }\n",
              "\n",
              "  .colab-df-quickchart {\n",
              "    background-color: var(--bg-color);\n",
              "    border: none;\n",
              "    border-radius: 50%;\n",
              "    cursor: pointer;\n",
              "    display: none;\n",
              "    fill: var(--fill-color);\n",
              "    height: 32px;\n",
              "    padding: 0;\n",
              "    width: 32px;\n",
              "  }\n",
              "\n",
              "  .colab-df-quickchart:hover {\n",
              "    background-color: var(--hover-bg-color);\n",
              "    box-shadow: 0 1px 2px rgba(60, 64, 67, 0.3), 0 1px 3px 1px rgba(60, 64, 67, 0.15);\n",
              "    fill: var(--button-hover-fill-color);\n",
              "  }\n",
              "\n",
              "  .colab-df-quickchart-complete:disabled,\n",
              "  .colab-df-quickchart-complete:disabled:hover {\n",
              "    background-color: var(--disabled-bg-color);\n",
              "    fill: var(--disabled-fill-color);\n",
              "    box-shadow: none;\n",
              "  }\n",
              "\n",
              "  .colab-df-spinner {\n",
              "    border: 2px solid var(--fill-color);\n",
              "    border-color: transparent;\n",
              "    border-bottom-color: var(--fill-color);\n",
              "    animation:\n",
              "      spin 1s steps(1) infinite;\n",
              "  }\n",
              "\n",
              "  @keyframes spin {\n",
              "    0% {\n",
              "      border-color: transparent;\n",
              "      border-bottom-color: var(--fill-color);\n",
              "      border-left-color: var(--fill-color);\n",
              "    }\n",
              "    20% {\n",
              "      border-color: transparent;\n",
              "      border-left-color: var(--fill-color);\n",
              "      border-top-color: var(--fill-color);\n",
              "    }\n",
              "    30% {\n",
              "      border-color: transparent;\n",
              "      border-left-color: var(--fill-color);\n",
              "      border-top-color: var(--fill-color);\n",
              "      border-right-color: var(--fill-color);\n",
              "    }\n",
              "    40% {\n",
              "      border-color: transparent;\n",
              "      border-right-color: var(--fill-color);\n",
              "      border-top-color: var(--fill-color);\n",
              "    }\n",
              "    60% {\n",
              "      border-color: transparent;\n",
              "      border-right-color: var(--fill-color);\n",
              "    }\n",
              "    80% {\n",
              "      border-color: transparent;\n",
              "      border-right-color: var(--fill-color);\n",
              "      border-bottom-color: var(--fill-color);\n",
              "    }\n",
              "    90% {\n",
              "      border-color: transparent;\n",
              "      border-bottom-color: var(--fill-color);\n",
              "    }\n",
              "  }\n",
              "</style>\n",
              "\n",
              "  <script>\n",
              "    async function quickchart(key) {\n",
              "      const quickchartButtonEl =\n",
              "        document.querySelector('#' + key + ' button');\n",
              "      quickchartButtonEl.disabled = true;  // To prevent multiple clicks.\n",
              "      quickchartButtonEl.classList.add('colab-df-spinner');\n",
              "      try {\n",
              "        const charts = await google.colab.kernel.invokeFunction(\n",
              "            'suggestCharts', [key], {});\n",
              "      } catch (error) {\n",
              "        console.error('Error during call to suggestCharts:', error);\n",
              "      }\n",
              "      quickchartButtonEl.classList.remove('colab-df-spinner');\n",
              "      quickchartButtonEl.classList.add('colab-df-quickchart-complete');\n",
              "    }\n",
              "    (() => {\n",
              "      let quickchartButtonEl =\n",
              "        document.querySelector('#df-df53874a-3371-4246-9043-37a336e34c25 button');\n",
              "      quickchartButtonEl.style.display =\n",
              "        google.colab.kernel.accessAllowed ? 'block' : 'none';\n",
              "    })();\n",
              "  </script>\n",
              "</div>\n",
              "\n",
              "    </div>\n",
              "  </div>\n"
            ],
            "text/plain": [
              "                                title                   genre        year  \\\n",
              "120          The Shawshank Redemption                   Drama      1994.0   \n",
              "179                   The Dark Knight      Action,Crime,Drama      2008.0   \n",
              "162                        Fight Club                   Drama      1999.0   \n",
              "15                    Game of Thrones  Action,Adventure,Drama  20112019.0   \n",
              "341                      Forrest Gump           Drama,Romance      1994.0   \n",
              "...                               ...                     ...         ...   \n",
              "356                        Doctor Who  Adventure,Drama,Family  19631989.0   \n",
              "8056                            Heist      Action,Crime,Drama      2001.0   \n",
              "6973  Undisputed 2: Last Man Standing      Action,Crime,Drama      2006.0   \n",
              "2881                           Freaks    Drama,Mystery,Sci-Fi      2018.0   \n",
              "59                      Fools Rush In    Comedy,Drama,Romance      1997.0   \n",
              "\n",
              "     certificate runtime  user-votes imdb-scores metacritic-scores  \\\n",
              "120            R     142     2818211         9.3                82   \n",
              "179        PG-13     152     2799705         9.0                84   \n",
              "162            R     139     2253243         8.8                67   \n",
              "15         TV-MA   4,189     2221168         9.2           No data   \n",
              "341        PG-13     142     2194831         8.8                82   \n",
              "...          ...     ...         ...         ...               ...   \n",
              "356        TV-PG      45       38616         8.4           No data   \n",
              "8056           R     109       38604         6.5                66   \n",
              "6973           R      98       38600         7.0           No data   \n",
              "2881           R     105       38591         6.7                63   \n",
              "59         PG-13     109       38587         6.1                37   \n",
              "\n",
              "                                           descriptions  \\\n",
              "120   Over the course of several years, two convicts...   \n",
              "179   When the menace known as the Joker wreaks havo...   \n",
              "162   An insomniac office worker and a devil-may-car...   \n",
              "15    Nine noble families fight for control over the...   \n",
              "341   The history of the United States from the 1950...   \n",
              "...                                                 ...   \n",
              "356   The adventures in time and space of the Doctor...   \n",
              "8056  A career jewel thief finds himself at tense od...   \n",
              "6973  Sequel to the 2002 film. This time, Heavyweigh...   \n",
              "2881  A bold girl discovers a bizarre, threatening, ...   \n",
              "59    After a one night stand with Alex, Isabel real...   \n",
              "\n",
              "                                                  stars  \n",
              "120       Director:\\nFrank Darabont\\n| \\n    Stars:\\...  \n",
              "179       Director:\\nChristopher Nolan\\n| \\n    Star...  \n",
              "162       Director:\\nDavid Fincher\\n| \\n    Stars:\\n...  \n",
              "15                \\n    Stars:\\nEmilia Clarke, \\nPet...  \n",
              "341       Director:\\nRobert Zemeckis\\n| \\n    Stars:...  \n",
              "...                                                 ...  \n",
              "356               \\n    Stars:\\nWilliam Hartnell, \\n...  \n",
              "8056      Director:\\nDavid Mamet\\n| \\n    Stars:\\nGe...  \n",
              "6973      Director:\\nIsaac Florentine\\n| \\n    Stars...  \n",
              "2881      Directors:\\nZach Lipovsky, \\nAdam B. Stein...  \n",
              "59        Director:\\nAndy Tennant\\n| \\n    Stars:\\nM...  \n",
              "\n",
              "[3000 rows x 10 columns]"
            ]
          },
          "execution_count": 19,
          "metadata": {},
          "output_type": "execute_result"
        }
      ],
      "source": [
        "ds[:3000]"
      ]
    },
    {
      "cell_type": "markdown",
      "metadata": {
        "id": "TINUsWu16ji9"
      },
      "source": [
        "Скрипт под апи от чатгпт. Понятно, что модельку можно поменять, взяла гпт 3.5, т.к. самая дешёвая, гпт 4 не пробовала, стоит намного дороже. Моё обучение на датасете в 5000 записей, кажется, обошлось бы в 6500\n",
        "\n",
        "Получается, контент для ролей：\n",
        "system - входная роль для чатгпт\n",
        "user - изначальный промпт\n",
        "assistant - используется для хранения предыдущих знаний, в диалогах предыдущий ответ добавляется сюда, также можно использовать для few-shot learning and Chain of thoughts"
      ]
    },
    {
      "cell_type": "code",
      "execution_count": null,
      "metadata": {
        "id": "Jz3wJ2HdAzOP"
      },
      "outputs": [],
      "source": [
        "from openai import OpenAI"
      ]
    },
    {
      "cell_type": "code",
      "execution_count": null,
      "metadata": {
        "id": "iZ34vc6CKUw7"
      },
      "outputs": [],
      "source": [
        "api_kek = \"kek\""
      ]
    },
    {
      "cell_type": "code",
      "execution_count": null,
      "metadata": {
        "id": "T6Uelb1bKaCB"
      },
      "outputs": [],
      "source": [
        "client = OpenAI(api_key=api_kek)"
      ]
    },
    {
      "cell_type": "markdown",
      "metadata": {},
      "source": [
        "Я запускала пару раз, но проблема в том, что лимит в 5 баксов я перевалила, так что всё обработать нереально мне было без зарубежной карты. Тут пример, как бы я писала промпт и так далее: "
      ]
    },
    {
      "cell_type": "markdown",
      "metadata": {},
      "source": [
        "Пример, как это вообще может быть:"
      ]
    },
    {
      "cell_type": "code",
      "execution_count": null,
      "metadata": {
        "id": "vR-grM7VK0ro"
      },
      "outputs": [],
      "source": [
        "completion = client.chat.completions.create(\n",
        "  model=\"gpt-3.5-turbo\",\n",
        "  messages=[\n",
        "    {\"role\": \"system\", \"content\": \"You are a helpful assistant.\"},\n",
        "    # {\"role\": \"user\", \"content\": \"Who won the world series in 2020?\"},\n",
        "    # {\"role\": \"assistant\", \"content\": \"The Los Angeles Dodgers won the World Series in 2020.\"},\n",
        "    # {\"role\": \"user\", \"content\": \"Where was it played?\"}\n",
        "  ]\n",
        ")\n"
      ]
    },
    {
      "cell_type": "markdown",
      "metadata": {},
      "source": [
        "Пример запроса:"
      ]
    },
    {
      "cell_type": "code",
      "execution_count": null,
      "metadata": {
        "id": "R-ZUY8qZEHzT"
      },
      "outputs": [],
      "source": [
        "\n",
        "  messages += [{'role': \"user\", \"content\": please give me a rich description of a f{'title'} with a yer {'year'}, here is a brief description {'description'},\n",
        "                please write at least 500 characters, here is a cast of this film {'stars'}}]\n",
        "  ds += completion.choices[0].message.content"
      ]
    },
    {
      "cell_type": "code",
      "execution_count": null,
      "metadata": {
        "colab": {
          "base_uri": "https://localhost:8080/",
          "height": 35
        },
        "id": "_YD9v7iLK59T",
        "outputId": "cebdbd6d-0400-4350-f5eb-7c590968b4f0"
      },
      "outputs": [
        {
          "data": {
            "application/vnd.google.colaboratory.intrinsic+json": {
              "type": "string"
            },
            "text/plain": [
              "'The World Series in 2020 was played at Globe Life Field, a baseball stadium in Arlington, Texas.'"
            ]
          },
          "execution_count": 11,
          "metadata": {},
          "output_type": "execute_result"
        }
      ],
      "source": [
        "completion.choices[0].message.content"
      ]
    },
    {
      "cell_type": "code",
      "execution_count": null,
      "metadata": {
        "id": "bhO-r2Ne8dbK"
      },
      "outputs": [],
      "source": [
        "# На выходе получаем обычную табличку в одну колонку, как например\n",
        "df = ds[[\"descriptions\"]]"
      ]
    },
    {
      "cell_type": "code",
      "execution_count": null,
      "metadata": {
        "id": "e3aW6ho849Zb"
      },
      "outputs": [],
      "source": [
        "df"
      ]
    },
    {
      "cell_type": "markdown",
      "metadata": {},
      "source": [
        "### Эмбеддинги и моделька "
      ]
    },
    {
      "cell_type": "markdown",
      "metadata": {
        "id": "BszKSHXc8Zbw"
      },
      "source": [
        "Эмбединг нашего текста"
      ]
    },
    {
      "cell_type": "code",
      "execution_count": null,
      "metadata": {
        "id": "Mtw98irW9RBC"
      },
      "outputs": [],
      "source": [
        "import seaborn as sns\n",
        "import tensorflow as tf\n",
        "import matplotlib.pyplot as plt"
      ]
    },
    {
      "cell_type": "code",
      "execution_count": null,
      "metadata": {
        "id": "qOgTW1CM81Cz"
      },
      "outputs": [],
      "source": [
        "# Делим датасет на тренировочный и валидационный\n",
        "n = int(0.9 * len(df))\n",
        "train_ds = df[:n]\n",
        "val_ds = df[n:]"
      ]
    },
    {
      "cell_type": "code",
      "execution_count": null,
      "metadata": {
        "id": "u0BNKshd9ZXu"
      },
      "outputs": [],
      "source": [
        "train_ds = tf.data.Dataset.from_tensor_slices((train_ds))\n",
        "val_ds = tf.data.Dataset.from_tensor_slices((val_ds))"
      ]
    },
    {
      "cell_type": "code",
      "execution_count": null,
      "metadata": {
        "id": "ib9MM2eRd-fg"
      },
      "outputs": [],
      "source": [
        "max_features = 5000\n",
        "BATCH_SIZE = 32"
      ]
    },
    {
      "cell_type": "markdown",
      "metadata": {
        "id": "-ZVhWkgoFc8u"
      },
      "source": [
        "Можно сделать sub-work tokenizer из tensorflow"
      ]
    },
    {
      "cell_type": "code",
      "execution_count": null,
      "metadata": {
        "id": "Lwqmm6Wg-Rz5"
      },
      "outputs": [],
      "source": [
        "# Создаём словарик с помощью TextVectorization будет словарь из н-грамм слов (я знаю, что н-граммы не активно пользуют, но это наиболее понятно)\n",
        "vectorize_layer = tf.keras.layers.TextVectorization(\n",
        "    standardize=\"lower_and_strip_punctuation\",\n",
        "    max_tokens=max_features,\n",
        ")\n",
        "vectorize_layer.adapt(train_ds, batch_size=None)"
      ]
    },
    {
      "cell_type": "code",
      "execution_count": null,
      "metadata": {
        "id": "A3PuzZhX-soY"
      },
      "outputs": [],
      "source": [
        "# Полученный словарик\n",
        "vocabulary = vectorize_layer.get_vocabulary()"
      ]
    },
    {
      "cell_type": "code",
      "execution_count": null,
      "metadata": {
        "id": "GMVyQKqE5-Ct"
      },
      "outputs": [],
      "source": [
        "len(vocabulary)"
      ]
    },
    {
      "cell_type": "code",
      "execution_count": null,
      "metadata": {
        "id": "7hOa4iKldrnR"
      },
      "outputs": [],
      "source": [
        "MAX_TOKENS = 128\n",
        "BUFFER_SIZE = 1000"
      ]
    },
    {
      "cell_type": "code",
      "execution_count": null,
      "metadata": {
        "id": "YlXJADgocRo-"
      },
      "outputs": [],
      "source": [
        "def prepare_batch(data):\n",
        "    x = vectorize_layer(data)\n",
        "    x = x[:, :(MAX_TOKENS)]\n",
        "    X_train = x[:, :-1]\n",
        "    y_train = x[:, 1:]\n",
        "    return (X_train, y_train)"
      ]
    },
    {
      "cell_type": "code",
      "execution_count": null,
      "metadata": {
        "id": "T0Q5XjEqcfPN"
      },
      "outputs": [],
      "source": [
        "def make_batches(ds):\n",
        "    return (\n",
        "        ds.shuffle(BUFFER_SIZE)\n",
        "        .batch(BATCH_SIZE)\n",
        "        .map(prepare_batch, tf.data.AUTOTUNE)\n",
        "        .prefetch(buffer_size=tf.data.AUTOTUNE)\n",
        "    )"
      ]
    },
    {
      "cell_type": "code",
      "execution_count": null,
      "metadata": {
        "id": "xBWE4ATychXc"
      },
      "outputs": [],
      "source": [
        "# Тренировочные и валидационные бачи\n",
        "train_batches = make_batches(train_ds)\n",
        "val_batches = make_batches(val_ds)"
      ]
    },
    {
      "cell_type": "code",
      "execution_count": null,
      "metadata": {
        "id": "3-6nTKHEflki"
      },
      "outputs": [],
      "source": [
        "for x_batch, y_batch in train_batches.take(1):\n",
        "    break"
      ]
    },
    {
      "cell_type": "markdown",
      "metadata": {
        "id": "aNjEri1Yeab8"
      },
      "source": [
        "Началась моделька"
      ]
    },
    {
      "cell_type": "code",
      "execution_count": null,
      "metadata": {
        "id": "dxJu9UdXeWxs"
      },
      "outputs": [],
      "source": [
        "def positional_encoding(length, depth):\n",
        "    depth = depth / 2\n",
        "\n",
        "    positions = np.arange(length)[:, np.newaxis]  # (seq, 1)\n",
        "    depths = np.arange(depth)[np.newaxis, :] / depth  # (1, depth)\n",
        "\n",
        "    angle_rates = 1 / (10000**depths)  # (1, depth)\n",
        "    angle_rads = positions * angle_rates  # (pos, depth)\n",
        "\n",
        "    pos_encoding = np.concatenate([np.sin(angle_rads), np.cos(angle_rads)], axis=-1)\n",
        "\n",
        "    return tf.cast(pos_encoding, dtype=tf.float32)"
      ]
    },
    {
      "cell_type": "code",
      "execution_count": null,
      "metadata": {
        "id": "eONMqGpHekVe"
      },
      "outputs": [],
      "source": [
        "class PositionalEmbedding(tf.keras.layers.Layer):\n",
        "    def __init__(self, vocab_size, d_model):\n",
        "        super().__init__()\n",
        "        self.d_model = d_model\n",
        "        self.embedding = tf.keras.layers.Embedding(vocab_size, d_model, mask_zero=True)\n",
        "        self.pos_encoding = positional_encoding(length=2048, depth=d_model)\n",
        "\n",
        "    def compute_mask(self, *args, **kwargs):\n",
        "        return self.embedding.compute_mask(*args, **kwargs)\n",
        "\n",
        "    def call(self, x):\n",
        "        length = tf.shape(x)[1]\n",
        "        x = self.embedding(x)\n",
        "        # This factor sets the relative scale of the embedding and positonal_encoding.\n",
        "        x *= tf.math.sqrt(tf.cast(self.d_model, tf.float32))\n",
        "        x = x + self.pos_encoding[tf.newaxis, :length, :]\n",
        "        return x"
      ]
    },
    {
      "cell_type": "code",
      "execution_count": null,
      "metadata": {
        "id": "obclCNKQfIeZ"
      },
      "outputs": [],
      "source": [
        "class BaseAttention(tf.keras.layers.Layer):\n",
        "    def __init__(self, **kwargs):\n",
        "        super().__init__()\n",
        "        self.mha = tf.keras.layers.MultiHeadAttention(**kwargs)\n",
        "        self.layernorm = tf.keras.layers.LayerNormalization()\n",
        "        self.add = tf.keras.layers.Add()\n",
        "\n",
        "class CausalSelfAttention(BaseAttention):\n",
        "    def call(self, x):\n",
        "        attn_output, attn_scores = self.mha(\n",
        "            query=x, value=x, key=x, return_attention_scores=True, use_causal_mask=True\n",
        "        )\n",
        "        self.last_attn_scores = attn_scores\n",
        "        x = self.add([x, attn_output])\n",
        "        x = self.layernorm(x)\n",
        "        return x"
      ]
    },
    {
      "cell_type": "code",
      "execution_count": null,
      "metadata": {
        "id": "HuoMSye0g1jQ"
      },
      "outputs": [],
      "source": [
        "class FeedForward(tf.keras.layers.Layer):\n",
        "    def __init__(self, d_model, dff, dropout_rate=0.1):\n",
        "        super().__init__()\n",
        "        self.seq = tf.keras.Sequential(\n",
        "            [\n",
        "                tf.keras.layers.Dense(dff, activation=\"relu\"),\n",
        "                tf.keras.layers.Dense(d_model),\n",
        "                tf.keras.layers.Dropout(dropout_rate),\n",
        "            ]\n",
        "        )\n",
        "        self.add = tf.keras.layers.Add()\n",
        "        self.layer_norm = tf.keras.layers.LayerNormalization()\n",
        "\n",
        "    def call(self, x):\n",
        "        x = self.add([x, self.seq(x)])\n",
        "        x = self.layer_norm(x)\n",
        "        return x"
      ]
    },
    {
      "cell_type": "code",
      "execution_count": null,
      "metadata": {
        "id": "KAUsxnL0g4ky"
      },
      "outputs": [],
      "source": [
        "class DecoderLayer(tf.keras.layers.Layer):\n",
        "    def __init__(self, *, d_model, num_heads, dff, dropout_rate=0.1):\n",
        "        super(DecoderLayer, self).__init__()\n",
        "\n",
        "        self.causal_self_attention = CausalSelfAttention(\n",
        "            num_heads=num_heads, key_dim=d_model, dropout=dropout_rate\n",
        "        )\n",
        "\n",
        "        self.ffn = FeedForward(d_model, dff)\n",
        "\n",
        "    def call(self, x):\n",
        "        x = self.causal_self_attention(x=x)\n",
        "        self.last_attn_scores = self.causal_self_attention.last_attn_scores\n",
        "        x = self.ffn(x)\n",
        "        return x"
      ]
    },
    {
      "cell_type": "code",
      "execution_count": null,
      "metadata": {
        "id": "YNCUqa6Eg-Ke"
      },
      "outputs": [],
      "source": [
        "class Decoder(tf.keras.layers.Layer):\n",
        "    def __init__(\n",
        "        self, *, num_layers, d_model, num_heads, dff, vocab_size, dropout_rate=0.1\n",
        "    ):\n",
        "        super(Decoder, self).__init__()\n",
        "\n",
        "        self.d_model = d_model\n",
        "        self.num_layers = num_layers\n",
        "\n",
        "        self.pos_embedding = PositionalEmbedding(vocab_size=vocab_size, d_model=d_model)\n",
        "        self.dropout = tf.keras.layers.Dropout(dropout_rate)\n",
        "        self.dec_layers = [\n",
        "            DecoderLayer(\n",
        "                d_model=d_model, num_heads=num_heads, dff=dff, dropout_rate=dropout_rate\n",
        "            )\n",
        "            for _ in range(num_layers)\n",
        "        ]\n",
        "\n",
        "        self.last_attn_scores = None\n",
        "\n",
        "    def call(self, x):\n",
        "        x = self.pos_embedding(x)\n",
        "\n",
        "        x = self.dropout(x)\n",
        "\n",
        "        for i in range(self.num_layers):\n",
        "            x = self.dec_layers[i](x)\n",
        "\n",
        "        self.last_attn_scores = self.dec_layers[-1].last_attn_scores\n",
        "\n",
        "        return x"
      ]
    },
    {
      "cell_type": "code",
      "execution_count": null,
      "metadata": {
        "id": "JUHu_NhLhCv7"
      },
      "outputs": [],
      "source": [
        "sample_decoder = Decoder(\n",
        "    num_layers=4, d_model=512, num_heads=8, dff=2048, vocab_size=8000\n",
        ")\n",
        "\n",
        "output = sample_decoder(x=x_batch)"
      ]
    },
    {
      "cell_type": "code",
      "execution_count": null,
      "metadata": {
        "colab": {
          "base_uri": "https://localhost:8080/"
        },
        "id": "cKy44_lZhFUo",
        "outputId": "99aae01c-bdb6-43dd-9c82-f46d722ee8c9"
      },
      "outputs": [
        {
          "name": "stdout",
          "output_type": "stream",
          "text": [
            "(32, 38)\n",
            "(32, 38, 512)\n"
          ]
        }
      ],
      "source": [
        "x_batch.shape\n",
        "output.shape"
      ]
    },
    {
      "cell_type": "code",
      "execution_count": null,
      "metadata": {
        "id": "4gdKIUnfhTBA"
      },
      "outputs": [],
      "source": [
        "class Transformer(tf.keras.Model):\n",
        "    def __init__(\n",
        "        self, *, num_layers, d_model, num_heads, dff, input_vocab_size, dropout_rate=0.1\n",
        "    ):\n",
        "        super().__init__()\n",
        "\n",
        "        self.decoder = Decoder(\n",
        "            num_layers=num_layers,\n",
        "            d_model=d_model,\n",
        "            num_heads=num_heads,\n",
        "            dff=dff,\n",
        "            vocab_size=input_vocab_size,\n",
        "            dropout_rate=dropout_rate,\n",
        "        )\n",
        "\n",
        "        self.final_layer = tf.keras.layers.Dense(input_vocab_size)\n",
        "\n",
        "    def call(self, inputs):\n",
        "\n",
        "        x = inputs\n",
        "\n",
        "        x = self.decoder(x)\n",
        "\n",
        "        logits = self.final_layer(x)  \n",
        "\n",
        "        try:\n",
        "            del logits._keras_mask\n",
        "        except AttributeError:\n",
        "            pass\n",
        "\n",
        "        # Return the final output and the attention weights.\n",
        "        return logits"
      ]
    },
    {
      "cell_type": "code",
      "execution_count": null,
      "metadata": {
        "id": "2ZDJCaswhWmj"
      },
      "outputs": [],
      "source": [
        "class CustomSchedule(tf.keras.optimizers.schedules.LearningRateSchedule):\n",
        "    def __init__(self, d_model, warmup_steps=4000):\n",
        "        super().__init__()\n",
        "\n",
        "        self.d_model = d_model\n",
        "        self.d_model = tf.cast(self.d_model, tf.float32)\n",
        "\n",
        "        self.warmup_steps = warmup_steps\n",
        "\n",
        "    def __call__(self, step):\n",
        "        step = tf.cast(step, dtype=tf.float32)\n",
        "        arg1 = tf.math.rsqrt(step)\n",
        "        arg2 = step * (self.warmup_steps**-1.5)\n",
        "\n",
        "        return tf.math.rsqrt(self.d_model) * tf.math.minimum(arg1, arg2)\n",
        "learning_rate = CustomSchedule(d_model=512)\n",
        "\n",
        "optimizer = tf.keras.optimizers.Adam(\n",
        "    learning_rate, beta_1=0.9, beta_2=0.98, epsilon=1e-9\n",
        ")"
      ]
    },
    {
      "cell_type": "code",
      "execution_count": null,
      "metadata": {
        "id": "7ZYqq8VpiDQV"
      },
      "outputs": [],
      "source": [
        "def masked_loss(label, pred):\n",
        "    mask = label != 0\n",
        "    loss_object = tf.keras.losses.SparseCategoricalCrossentropy(\n",
        "        from_logits=True, reduction=\"none\"\n",
        "    )\n",
        "    loss = loss_object(label, pred)\n",
        "\n",
        "    mask = tf.cast(mask, dtype=loss.dtype)\n",
        "    loss *= mask\n",
        "    loss = tf.reduce_sum(loss) / tf.reduce_sum(mask)\n",
        "    return loss\n",
        "\n",
        "\n",
        "def masked_accuracy(label, pred):\n",
        "    pred = tf.argmax(pred, axis=2)\n",
        "    label = tf.cast(label, pred.dtype)\n",
        "    match = label == pred\n",
        "\n",
        "    mask = label != 0\n",
        "\n",
        "    match = match & mask\n",
        "\n",
        "    match = tf.cast(match, dtype=tf.float32)\n",
        "    mask = tf.cast(mask, dtype=tf.float32)\n",
        "    return tf.reduce_sum(match) / tf.reduce_sum(mask)"
      ]
    },
    {
      "cell_type": "code",
      "execution_count": null,
      "metadata": {
        "id": "QQK_7CaGji__"
      },
      "outputs": [],
      "source": [
        "num_layers = 4\n",
        "d_model = 128\n",
        "dff = 512\n",
        "num_heads = 8\n",
        "dropout_rate = 0.1"
      ]
    },
    {
      "cell_type": "code",
      "execution_count": null,
      "metadata": {
        "id": "bq2dwesQjmm-"
      },
      "outputs": [],
      "source": [
        "transformer = Transformer(\n",
        "    num_layers=num_layers,\n",
        "    d_model=d_model,\n",
        "    num_heads=num_heads,\n",
        "    dff=dff,\n",
        "    input_vocab_size=vectorize_layer.vocabulary_size(),\n",
        "    dropout_rate=dropout_rate)"
      ]
    },
    {
      "cell_type": "code",
      "execution_count": null,
      "metadata": {
        "colab": {
          "base_uri": "https://localhost:8080/"
        },
        "id": "498ZAjwXiF8b",
        "outputId": "564b668a-36b1-42c5-adcc-554d467602fa"
      },
      "outputs": [
        {
          "name": "stdout",
          "output_type": "stream",
          "text": [
            "Epoch 1/10\n",
            "277/277 [==============================] - 353s 1s/step - loss: 8.0738 - masked_accuracy: 0.0809 - val_loss: 7.4288 - val_masked_accuracy: 0.1270\n",
            "Epoch 2/10\n",
            "277/277 [==============================] - 326s 1s/step - loss: 6.8120 - masked_accuracy: 0.1060 - val_loss: 6.0485 - val_masked_accuracy: 0.1277\n",
            "Epoch 3/10\n",
            "277/277 [==============================] - 315s 1s/step - loss: 5.9945 - masked_accuracy: 0.1313 - val_loss: 5.6375 - val_masked_accuracy: 0.1661\n",
            "Epoch 4/10\n",
            "277/277 [==============================] - 313s 1s/step - loss: 5.6634 - masked_accuracy: 0.1627 - val_loss: 5.3832 - val_masked_accuracy: 0.1785\n",
            "Epoch 5/10\n",
            "277/277 [==============================] - 309s 1s/step - loss: 5.4135 - masked_accuracy: 0.1788 - val_loss: 5.1800 - val_masked_accuracy: 0.1907\n",
            "Epoch 6/10\n",
            "277/277 [==============================] - 326s 1s/step - loss: 5.2054 - masked_accuracy: 0.1916 - val_loss: 5.0224 - val_masked_accuracy: 0.2069\n",
            "Epoch 7/10\n",
            "277/277 [==============================] - 306s 1s/step - loss: 5.0284 - masked_accuracy: 0.2039 - val_loss: 4.9270 - val_masked_accuracy: 0.2115\n",
            "Epoch 8/10\n",
            "277/277 [==============================] - 312s 1s/step - loss: 4.8779 - masked_accuracy: 0.2140 - val_loss: 4.8401 - val_masked_accuracy: 0.2167\n",
            "Epoch 9/10\n",
            "277/277 [==============================] - 302s 1s/step - loss: 4.7423 - masked_accuracy: 0.2218 - val_loss: 4.7749 - val_masked_accuracy: 0.2241\n",
            "Epoch 10/10\n",
            "277/277 [==============================] - 311s 1s/step - loss: 4.6199 - masked_accuracy: 0.2295 - val_loss: 4.7347 - val_masked_accuracy: 0.2204\n"
          ]
        }
      ],
      "source": [
        "transformer.compile(loss=masked_loss, optimizer=optimizer, metrics=[masked_accuracy])\n",
        "history = transformer.fit(train_batches, epochs=10, validation_data=val_batches)"
      ]
    },
    {
      "cell_type": "markdown",
      "metadata": {},
      "source": [
        "В описании к лабе писалось про 30+ эпох, но в данном случае показалось чрезмерным, хотя всё ещё лосс падает"
      ]
    },
    {
      "cell_type": "code",
      "execution_count": null,
      "metadata": {
        "colab": {
          "base_uri": "https://localhost:8080/",
          "height": 860
        },
        "id": "9s1a1-rtkqFX",
        "outputId": "b1945b7e-89c5-437f-e4c6-dc1a10c9ab4b"
      },
      "outputs": [
        {
          "data": {
            "text/plain": [
              "<Axes: >"
            ]
          },
          "execution_count": 68,
          "metadata": {},
          "output_type": "execute_result"
        },
        {
          "data": {
            "image/png": "[encoded data removed]",
            "text/plain": [
              "<Figure size 640x480 with 1 Axes>"
            ]
          },
          "metadata": {},
          "output_type": "display_data"
        },
        {
          "data": {
            "image/png": "[encoded data removed]",
            "text/plain": [
              "<Figure size 640x480 with 1 Axes>"
            ]
          },
          "metadata": {},
          "output_type": "display_data"
        }
      ],
      "source": [
        "metrics_df = pd.DataFrame(history.history)\n",
        "metrics_df[[\"loss\", \"val_loss\"]].plot()\n",
        "metrics_df[[\"masked_accuracy\", \"val_masked_accuracy\"]].plot()"
      ]
    },
    {
      "cell_type": "code",
      "execution_count": null,
      "metadata": {
        "id": "LtSmQtYrk6QO"
      },
      "outputs": [],
      "source": [
        "sentence = \"Once upon a time in a galaxy far far away\"\n",
        "x = vectorize_layer(sentence)\n",
        "x = tf.expand_dims(x, axis=0)\n",
        "prediction = transformer(x)\n",
        "predicted_id = tf.argmax(prediction, axis=-1)\n",
        "id_to_word = tf.keras.layers.StringLookup(\n",
        "    vocabulary=vocabulary, mask_token=\"\", oov_token=\"[UNK]\", invert=True\n",
        ")"
      ]
    },
    {
      "cell_type": "code",
      "execution_count": null,
      "metadata": {
        "colab": {
          "base_uri": "https://localhost:8080/"
        },
        "id": "1n08-1Jn7mWt",
        "outputId": "804080f3-7d37-4442-87e1-a0508d8c270f"
      },
      "outputs": [
        {
          "data": {
            "text/plain": [
              "<tf.Tensor: shape=(1, 10), dtype=string, numpy=\n",
              "array([[b'years', b'a', b'[UNK]', b'of', b'the', b'[UNK]', b'and',\n",
              "        b'[UNK]', b'for', b'from']], dtype=object)>"
            ]
          },
          "execution_count": 72,
          "metadata": {},
          "output_type": "execute_result"
        }
      ],
      "source": [
        "id_to_word(predicted_id)"
      ]
    },
    {
      "cell_type": "code",
      "execution_count": null,
      "metadata": {
        "id": "GpcIsb4xlZ_3"
      },
      "outputs": [],
      "source": [
        "class Generator(tf.Module):\n",
        "    def __init__(\n",
        "        self,\n",
        "        tokenizer,\n",
        "        vocabulary,\n",
        "        transformer,\n",
        "        max_new_tokens,\n",
        "        temperature=0.0,\n",
        "    ):\n",
        "        self.tokenizer = tokenizer\n",
        "        self.transformer = transformer\n",
        "        self.vocabulary = vocabulary\n",
        "        self.max_new_tokens = max_new_tokens\n",
        "        self.temperature = temperature\n",
        "\n",
        "    def __call__(self, sentence, max_length=MAX_TOKENS):\n",
        "        sentence = self.tokenizer(sentence)\n",
        "        sentence = tf.expand_dims(sentence, axis=0)\n",
        "        encoder_input = sentence\n",
        "        output_array = tf.TensorArray(dtype=tf.int64, size=0, dynamic_size=True)\n",
        "\n",
        "        print(f\"Generating {self.max_new_tokens} tokens\")\n",
        "        for i in tf.range(self.max_new_tokens):\n",
        "            output = tf.transpose(output_array.stack())\n",
        "            predictions = self.transformer(encoder_input, training=False)\n",
        "\n",
        "            predictions = predictions[:, -1:, :]\n",
        "            if self.temperature == 0.0:\n",
        "                predicted_id = tf.argmax(predictions, axis=-1)\n",
        "            else:\n",
        "                predictions = predictions / self.temperature\n",
        "                predicted_id = tf.random.categorical(predictions[0], num_samples=1)\n",
        "\n",
        "\n",
        "            output_array = output_array.write(i + 1, predicted_id[0])\n",
        "            encoder_input = tf.experimental.numpy.append(encoder_input, predicted_id[0])\n",
        "            encoder_input = tf.expand_dims(encoder_input, axis=0)\n",
        "\n",
        "        output = tf.transpose(output_array.stack())\n",
        "        id_to_word = tf.keras.layers.StringLookup(\n",
        "            vocabulary=self.vocabulary, mask_token=\"\", oov_token=\"[UNK]\", invert=True\n",
        "        )\n",
        "\n",
        "        print(f\"Using temperature of {self.temperature}\")\n",
        "        text = id_to_word(output)\n",
        "        tokens = output\n",
        "\n",
        "        self.transformer(output[:, :-1], training=False)\n",
        "        attention_weights = self.transformer.decoder.last_attn_scores\n",
        "\n",
        "        return text, tokens, attention_weights"
      ]
    },
    {
      "cell_type": "markdown",
      "metadata": {},
      "source": [
        "Температуру можно покрутить. Чем \"холоднее\", тем мы \"креативнее\""
      ]
    },
    {
      "cell_type": "code",
      "execution_count": null,
      "metadata": {
        "colab": {
          "base_uri": "https://localhost:8080/"
        },
        "id": "aFOu_jzamCvh",
        "outputId": "b82b1fbe-58c0-4fe1-c13d-836a293c8a5e"
      },
      "outputs": [
        {
          "name": "stdout",
          "output_type": "stream",
          "text": [
            "Generating 20 tokens\n",
            "Using temperature of 0.9\n",
            "Input:         : Once upon a time in a galaxy far far away\n",
            "Generation     : [[b'' b'with' b'her' b'friends' b'almost' b'may' b'be' b'she' b'uses'\n",
            "  b'[UNK]' b'to' b'avoid' b'run' b'by' b'longs' b'for' b'her' b'own'\n",
            "  b'feelings' b'for' b'her']]\n"
          ]
        }
      ],
      "source": [
        "max_new_tokens = 20\n",
        "temperature = 0.85\n",
        "generator = Generator(\n",
        "    vectorize_layer, vocabulary, transformer, max_new_tokens, temperature,\n",
        ")\n",
        "def print_generation(sentence, generated_text):\n",
        "    print(f'{\"Input:\":15s}: {sentence}')\n",
        "    print(f'{\"Generation\":15s}: {generated_text}')\n",
        "sentence = \"Once upon a time in a galaxy far far away\"\n",
        "generated_text, generated_tokens, attention_weights = generator(sentence)\n",
        "print_generation(sentence, generated_text)"
      ]
    }
  ],
  "metadata": {
    "colab": {
      "provenance": []
    },
    "kernelspec": {
      "display_name": "Python 3",
      "name": "python3"
    },
    "language_info": {
      "name": "python"
    }
  },
  "nbformat": 4,
  "nbformat_minor": 0
}
